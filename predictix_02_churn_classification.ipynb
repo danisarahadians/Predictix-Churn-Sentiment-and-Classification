{
  "nbformat": 4,
  "nbformat_minor": 0,
  "metadata": {
    "colab": {
      "provenance": []
    },
    "kernelspec": {
      "name": "python3",
      "display_name": "Python 3"
    },
    "language_info": {
      "name": "python"
    }
  },
  "cells": [
    {
      "cell_type": "markdown",
      "source": [
        "# 1. Introduction\n",
        "\n",
        "Team Names : Predictix\n",
        "\n",
        "Batch : FTDS-BSD-007\n",
        "\n",
        "Problem Statement : Customer churn is one of the most important factors in retail and other businesses, especially when considering profitability. Increased customer churn can lead to a decline in profits. To mitigate this, we can develop a classification model to predict whether a customer is likely to churn. This model can then provide valuable insights and potential solutions to retain customers at risk of churning."
      ],
      "metadata": {
        "id": "ubrZjVmJKiU_"
      }
    },
    {
      "cell_type": "markdown",
      "source": [
        "# 2. Import Library"
      ],
      "metadata": {
        "id": "HT1xAUB9Oa_5"
      }
    },
    {
      "cell_type": "code",
      "source": [
        "pip install phik"
      ],
      "metadata": {
        "id": "m5vWXl_6WXXx",
        "colab": {
          "base_uri": "https://localhost:8080/"
        },
        "outputId": "c50ec4b9-0d72-4da9-ceee-cc2a5b5cade6"
      },
      "execution_count": 1,
      "outputs": [
        {
          "output_type": "stream",
          "name": "stdout",
          "text": [
            "Requirement already satisfied: phik in /usr/local/lib/python3.10/dist-packages (0.12.4)\n",
            "Requirement already satisfied: numpy>=1.18.0 in /usr/local/lib/python3.10/dist-packages (from phik) (1.26.4)\n",
            "Requirement already satisfied: scipy>=1.5.2 in /usr/local/lib/python3.10/dist-packages (from phik) (1.13.1)\n",
            "Requirement already satisfied: pandas>=0.25.1 in /usr/local/lib/python3.10/dist-packages (from phik) (2.2.3)\n",
            "Requirement already satisfied: matplotlib>=2.2.3 in /usr/local/lib/python3.10/dist-packages (from phik) (3.7.1)\n",
            "Requirement already satisfied: joblib>=0.14.1 in /usr/local/lib/python3.10/dist-packages (from phik) (1.4.2)\n",
            "Requirement already satisfied: contourpy>=1.0.1 in /usr/local/lib/python3.10/dist-packages (from matplotlib>=2.2.3->phik) (1.3.0)\n",
            "Requirement already satisfied: cycler>=0.10 in /usr/local/lib/python3.10/dist-packages (from matplotlib>=2.2.3->phik) (0.12.1)\n",
            "Requirement already satisfied: fonttools>=4.22.0 in /usr/local/lib/python3.10/dist-packages (from matplotlib>=2.2.3->phik) (4.53.1)\n",
            "Requirement already satisfied: kiwisolver>=1.0.1 in /usr/local/lib/python3.10/dist-packages (from matplotlib>=2.2.3->phik) (1.4.7)\n",
            "Requirement already satisfied: packaging>=20.0 in /usr/local/lib/python3.10/dist-packages (from matplotlib>=2.2.3->phik) (24.1)\n",
            "Requirement already satisfied: pillow>=6.2.0 in /usr/local/lib/python3.10/dist-packages (from matplotlib>=2.2.3->phik) (10.4.0)\n",
            "Requirement already satisfied: pyparsing>=2.3.1 in /usr/local/lib/python3.10/dist-packages (from matplotlib>=2.2.3->phik) (3.1.4)\n",
            "Requirement already satisfied: python-dateutil>=2.7 in /usr/local/lib/python3.10/dist-packages (from matplotlib>=2.2.3->phik) (2.8.2)\n",
            "Requirement already satisfied: pytz>=2020.1 in /usr/local/lib/python3.10/dist-packages (from pandas>=0.25.1->phik) (2024.2)\n",
            "Requirement already satisfied: tzdata>=2022.7 in /usr/local/lib/python3.10/dist-packages (from pandas>=0.25.1->phik) (2024.1)\n",
            "Requirement already satisfied: six>=1.5 in /usr/local/lib/python3.10/dist-packages (from python-dateutil>=2.7->matplotlib>=2.2.3->phik) (1.16.0)\n"
          ]
        }
      ]
    },
    {
      "cell_type": "code",
      "source": [
        "pip install feature_engine"
      ],
      "metadata": {
        "id": "LZMejyiYWaOr",
        "colab": {
          "base_uri": "https://localhost:8080/"
        },
        "outputId": "3db958e1-b585-4a35-c48f-6afece078ab3"
      },
      "execution_count": 2,
      "outputs": [
        {
          "output_type": "stream",
          "name": "stdout",
          "text": [
            "Requirement already satisfied: feature_engine in /usr/local/lib/python3.10/dist-packages (1.8.1)\n",
            "Requirement already satisfied: numpy>=1.18.2 in /usr/local/lib/python3.10/dist-packages (from feature_engine) (1.26.4)\n",
            "Requirement already satisfied: pandas>=2.2.0 in /usr/local/lib/python3.10/dist-packages (from feature_engine) (2.2.3)\n",
            "Requirement already satisfied: scikit-learn>=1.4.0 in /usr/local/lib/python3.10/dist-packages (from feature_engine) (1.5.2)\n",
            "Requirement already satisfied: scipy>=1.4.1 in /usr/local/lib/python3.10/dist-packages (from feature_engine) (1.13.1)\n",
            "Requirement already satisfied: statsmodels>=0.11.1 in /usr/local/lib/python3.10/dist-packages (from feature_engine) (0.14.3)\n",
            "Requirement already satisfied: python-dateutil>=2.8.2 in /usr/local/lib/python3.10/dist-packages (from pandas>=2.2.0->feature_engine) (2.8.2)\n",
            "Requirement already satisfied: pytz>=2020.1 in /usr/local/lib/python3.10/dist-packages (from pandas>=2.2.0->feature_engine) (2024.2)\n",
            "Requirement already satisfied: tzdata>=2022.7 in /usr/local/lib/python3.10/dist-packages (from pandas>=2.2.0->feature_engine) (2024.1)\n",
            "Requirement already satisfied: joblib>=1.2.0 in /usr/local/lib/python3.10/dist-packages (from scikit-learn>=1.4.0->feature_engine) (1.4.2)\n",
            "Requirement already satisfied: threadpoolctl>=3.1.0 in /usr/local/lib/python3.10/dist-packages (from scikit-learn>=1.4.0->feature_engine) (3.5.0)\n",
            "Requirement already satisfied: patsy>=0.5.6 in /usr/local/lib/python3.10/dist-packages (from statsmodels>=0.11.1->feature_engine) (0.5.6)\n",
            "Requirement already satisfied: packaging>=21.3 in /usr/local/lib/python3.10/dist-packages (from statsmodels>=0.11.1->feature_engine) (24.1)\n",
            "Requirement already satisfied: six in /usr/local/lib/python3.10/dist-packages (from patsy>=0.5.6->statsmodels>=0.11.1->feature_engine) (1.16.0)\n"
          ]
        }
      ]
    },
    {
      "cell_type": "code",
      "execution_count": 3,
      "metadata": {
        "id": "3wd-6hZ5NoP5"
      },
      "outputs": [],
      "source": [
        "import pandas as pd\n",
        "import numpy as np\n",
        "import warnings\n",
        "import pickle\n",
        "warnings.filterwarnings('ignore')\n",
        "import sklearn\n",
        "from sklearn.impute import SimpleImputer\n",
        "from phik import phik_matrix\n",
        "from sklearn.model_selection import train_test_split\n",
        "from sklearn.preprocessing import StandardScaler, OneHotEncoder, RobustScaler\n",
        "from sklearn.compose import ColumnTransformer\n",
        "from sklearn.pipeline import Pipeline\n",
        "from feature_engine.outliers import Winsorizer\n",
        "from xgboost import XGBClassifier\n",
        "from sklearn.ensemble import RandomForestClassifier\n",
        "from sklearn.linear_model import LogisticRegression\n",
        "from sklearn.svm import SVC\n",
        "from sklearn.neighbors import KNeighborsClassifier\n",
        "from sklearn.tree import DecisionTreeClassifier\n",
        "from sklearn.naive_bayes import GaussianNB\n",
        "from sklearn.model_selection import StratifiedKFold\n",
        "from sklearn.model_selection import  GridSearchCV\n",
        "from sklearn.model_selection import cross_val_score\n",
        "from sklearn.metrics import  classification_report, confusion_matrix"
      ]
    },
    {
      "cell_type": "markdown",
      "source": [
        "# 3. Data Loading\n"
      ],
      "metadata": {
        "id": "sjUDrkw0OlNy"
      }
    },
    {
      "cell_type": "code",
      "source": [
        "data = pd.read_csv('/content/florist_customer_churn_raw_fix_cleaned.csv')\n",
        "data.head(5)"
      ],
      "metadata": {
        "id": "cw8V0t-bOni8",
        "colab": {
          "base_uri": "https://localhost:8080/",
          "height": 206
        },
        "outputId": "60087653-e0a5-4652-bbf6-34762513dcb1"
      },
      "execution_count": 4,
      "outputs": [
        {
          "output_type": "execute_result",
          "data": {
            "text/plain": [
              "  customer_id  churn  tenure  monthly_charges  total_charges        contract  \\\n",
              "0     CUST001   True      12        3000000.0     36000000.0        one year   \n",
              "1     CUST002   True       4        3505000.0     14200000.0  month-to-month   \n",
              "2     CUST003  False      20       29990000.0     59908000.0        two year   \n",
              "3     CUST004   True       2        3200000.0      6400000.0  month-to-month   \n",
              "4     CUST005   True      15        2805000.0     42705000.0        one year   \n",
              "\n",
              "     payment_method                           feedback sentiment  \\\n",
              "0       credit card       Love the variety of flowers!  positive   \n",
              "1  electronic check            Delivery was often late  negative   \n",
              "2     bank transfer          Great service and quality  positive   \n",
              "3      mailed check                 Not enough variety  negative   \n",
              "4       credit card  Beautiful arrangements every time  positive   \n",
              "\n",
              "                 topic  \n",
              "0  bouquet preferences  \n",
              "1      delivery issues  \n",
              "2     general feedback  \n",
              "3  bouquet preferences  \n",
              "4     general feedback  "
            ],
            "text/html": [
              "\n",
              "  <div id=\"df-c7f728ee-f7d8-41d3-9b69-7e40e831b4d4\" class=\"colab-df-container\">\n",
              "    <div>\n",
              "<style scoped>\n",
              "    .dataframe tbody tr th:only-of-type {\n",
              "        vertical-align: middle;\n",
              "    }\n",
              "\n",
              "    .dataframe tbody tr th {\n",
              "        vertical-align: top;\n",
              "    }\n",
              "\n",
              "    .dataframe thead th {\n",
              "        text-align: right;\n",
              "    }\n",
              "</style>\n",
              "<table border=\"1\" class=\"dataframe\">\n",
              "  <thead>\n",
              "    <tr style=\"text-align: right;\">\n",
              "      <th></th>\n",
              "      <th>customer_id</th>\n",
              "      <th>churn</th>\n",
              "      <th>tenure</th>\n",
              "      <th>monthly_charges</th>\n",
              "      <th>total_charges</th>\n",
              "      <th>contract</th>\n",
              "      <th>payment_method</th>\n",
              "      <th>feedback</th>\n",
              "      <th>sentiment</th>\n",
              "      <th>topic</th>\n",
              "    </tr>\n",
              "  </thead>\n",
              "  <tbody>\n",
              "    <tr>\n",
              "      <th>0</th>\n",
              "      <td>CUST001</td>\n",
              "      <td>True</td>\n",
              "      <td>12</td>\n",
              "      <td>3000000.0</td>\n",
              "      <td>36000000.0</td>\n",
              "      <td>one year</td>\n",
              "      <td>credit card</td>\n",
              "      <td>Love the variety of flowers!</td>\n",
              "      <td>positive</td>\n",
              "      <td>bouquet preferences</td>\n",
              "    </tr>\n",
              "    <tr>\n",
              "      <th>1</th>\n",
              "      <td>CUST002</td>\n",
              "      <td>True</td>\n",
              "      <td>4</td>\n",
              "      <td>3505000.0</td>\n",
              "      <td>14200000.0</td>\n",
              "      <td>month-to-month</td>\n",
              "      <td>electronic check</td>\n",
              "      <td>Delivery was often late</td>\n",
              "      <td>negative</td>\n",
              "      <td>delivery issues</td>\n",
              "    </tr>\n",
              "    <tr>\n",
              "      <th>2</th>\n",
              "      <td>CUST003</td>\n",
              "      <td>False</td>\n",
              "      <td>20</td>\n",
              "      <td>29990000.0</td>\n",
              "      <td>59908000.0</td>\n",
              "      <td>two year</td>\n",
              "      <td>bank transfer</td>\n",
              "      <td>Great service and quality</td>\n",
              "      <td>positive</td>\n",
              "      <td>general feedback</td>\n",
              "    </tr>\n",
              "    <tr>\n",
              "      <th>3</th>\n",
              "      <td>CUST004</td>\n",
              "      <td>True</td>\n",
              "      <td>2</td>\n",
              "      <td>3200000.0</td>\n",
              "      <td>6400000.0</td>\n",
              "      <td>month-to-month</td>\n",
              "      <td>mailed check</td>\n",
              "      <td>Not enough variety</td>\n",
              "      <td>negative</td>\n",
              "      <td>bouquet preferences</td>\n",
              "    </tr>\n",
              "    <tr>\n",
              "      <th>4</th>\n",
              "      <td>CUST005</td>\n",
              "      <td>True</td>\n",
              "      <td>15</td>\n",
              "      <td>2805000.0</td>\n",
              "      <td>42705000.0</td>\n",
              "      <td>one year</td>\n",
              "      <td>credit card</td>\n",
              "      <td>Beautiful arrangements every time</td>\n",
              "      <td>positive</td>\n",
              "      <td>general feedback</td>\n",
              "    </tr>\n",
              "  </tbody>\n",
              "</table>\n",
              "</div>\n",
              "    <div class=\"colab-df-buttons\">\n",
              "\n",
              "  <div class=\"colab-df-container\">\n",
              "    <button class=\"colab-df-convert\" onclick=\"convertToInteractive('df-c7f728ee-f7d8-41d3-9b69-7e40e831b4d4')\"\n",
              "            title=\"Convert this dataframe to an interactive table.\"\n",
              "            style=\"display:none;\">\n",
              "\n",
              "  <svg xmlns=\"http://www.w3.org/2000/svg\" height=\"24px\" viewBox=\"0 -960 960 960\">\n",
              "    <path d=\"M120-120v-720h720v720H120Zm60-500h600v-160H180v160Zm220 220h160v-160H400v160Zm0 220h160v-160H400v160ZM180-400h160v-160H180v160Zm440 0h160v-160H620v160ZM180-180h160v-160H180v160Zm440 0h160v-160H620v160Z\"/>\n",
              "  </svg>\n",
              "    </button>\n",
              "\n",
              "  <style>\n",
              "    .colab-df-container {\n",
              "      display:flex;\n",
              "      gap: 12px;\n",
              "    }\n",
              "\n",
              "    .colab-df-convert {\n",
              "      background-color: #E8F0FE;\n",
              "      border: none;\n",
              "      border-radius: 50%;\n",
              "      cursor: pointer;\n",
              "      display: none;\n",
              "      fill: #1967D2;\n",
              "      height: 32px;\n",
              "      padding: 0 0 0 0;\n",
              "      width: 32px;\n",
              "    }\n",
              "\n",
              "    .colab-df-convert:hover {\n",
              "      background-color: #E2EBFA;\n",
              "      box-shadow: 0px 1px 2px rgba(60, 64, 67, 0.3), 0px 1px 3px 1px rgba(60, 64, 67, 0.15);\n",
              "      fill: #174EA6;\n",
              "    }\n",
              "\n",
              "    .colab-df-buttons div {\n",
              "      margin-bottom: 4px;\n",
              "    }\n",
              "\n",
              "    [theme=dark] .colab-df-convert {\n",
              "      background-color: #3B4455;\n",
              "      fill: #D2E3FC;\n",
              "    }\n",
              "\n",
              "    [theme=dark] .colab-df-convert:hover {\n",
              "      background-color: #434B5C;\n",
              "      box-shadow: 0px 1px 3px 1px rgba(0, 0, 0, 0.15);\n",
              "      filter: drop-shadow(0px 1px 2px rgba(0, 0, 0, 0.3));\n",
              "      fill: #FFFFFF;\n",
              "    }\n",
              "  </style>\n",
              "\n",
              "    <script>\n",
              "      const buttonEl =\n",
              "        document.querySelector('#df-c7f728ee-f7d8-41d3-9b69-7e40e831b4d4 button.colab-df-convert');\n",
              "      buttonEl.style.display =\n",
              "        google.colab.kernel.accessAllowed ? 'block' : 'none';\n",
              "\n",
              "      async function convertToInteractive(key) {\n",
              "        const element = document.querySelector('#df-c7f728ee-f7d8-41d3-9b69-7e40e831b4d4');\n",
              "        const dataTable =\n",
              "          await google.colab.kernel.invokeFunction('convertToInteractive',\n",
              "                                                    [key], {});\n",
              "        if (!dataTable) return;\n",
              "\n",
              "        const docLinkHtml = 'Like what you see? Visit the ' +\n",
              "          '<a target=\"_blank\" href=https://colab.research.google.com/notebooks/data_table.ipynb>data table notebook</a>'\n",
              "          + ' to learn more about interactive tables.';\n",
              "        element.innerHTML = '';\n",
              "        dataTable['output_type'] = 'display_data';\n",
              "        await google.colab.output.renderOutput(dataTable, element);\n",
              "        const docLink = document.createElement('div');\n",
              "        docLink.innerHTML = docLinkHtml;\n",
              "        element.appendChild(docLink);\n",
              "      }\n",
              "    </script>\n",
              "  </div>\n",
              "\n",
              "\n",
              "<div id=\"df-780ec09c-c7eb-4f14-8224-b71c51d20252\">\n",
              "  <button class=\"colab-df-quickchart\" onclick=\"quickchart('df-780ec09c-c7eb-4f14-8224-b71c51d20252')\"\n",
              "            title=\"Suggest charts\"\n",
              "            style=\"display:none;\">\n",
              "\n",
              "<svg xmlns=\"http://www.w3.org/2000/svg\" height=\"24px\"viewBox=\"0 0 24 24\"\n",
              "     width=\"24px\">\n",
              "    <g>\n",
              "        <path d=\"M19 3H5c-1.1 0-2 .9-2 2v14c0 1.1.9 2 2 2h14c1.1 0 2-.9 2-2V5c0-1.1-.9-2-2-2zM9 17H7v-7h2v7zm4 0h-2V7h2v10zm4 0h-2v-4h2v4z\"/>\n",
              "    </g>\n",
              "</svg>\n",
              "  </button>\n",
              "\n",
              "<style>\n",
              "  .colab-df-quickchart {\n",
              "      --bg-color: #E8F0FE;\n",
              "      --fill-color: #1967D2;\n",
              "      --hover-bg-color: #E2EBFA;\n",
              "      --hover-fill-color: #174EA6;\n",
              "      --disabled-fill-color: #AAA;\n",
              "      --disabled-bg-color: #DDD;\n",
              "  }\n",
              "\n",
              "  [theme=dark] .colab-df-quickchart {\n",
              "      --bg-color: #3B4455;\n",
              "      --fill-color: #D2E3FC;\n",
              "      --hover-bg-color: #434B5C;\n",
              "      --hover-fill-color: #FFFFFF;\n",
              "      --disabled-bg-color: #3B4455;\n",
              "      --disabled-fill-color: #666;\n",
              "  }\n",
              "\n",
              "  .colab-df-quickchart {\n",
              "    background-color: var(--bg-color);\n",
              "    border: none;\n",
              "    border-radius: 50%;\n",
              "    cursor: pointer;\n",
              "    display: none;\n",
              "    fill: var(--fill-color);\n",
              "    height: 32px;\n",
              "    padding: 0;\n",
              "    width: 32px;\n",
              "  }\n",
              "\n",
              "  .colab-df-quickchart:hover {\n",
              "    background-color: var(--hover-bg-color);\n",
              "    box-shadow: 0 1px 2px rgba(60, 64, 67, 0.3), 0 1px 3px 1px rgba(60, 64, 67, 0.15);\n",
              "    fill: var(--button-hover-fill-color);\n",
              "  }\n",
              "\n",
              "  .colab-df-quickchart-complete:disabled,\n",
              "  .colab-df-quickchart-complete:disabled:hover {\n",
              "    background-color: var(--disabled-bg-color);\n",
              "    fill: var(--disabled-fill-color);\n",
              "    box-shadow: none;\n",
              "  }\n",
              "\n",
              "  .colab-df-spinner {\n",
              "    border: 2px solid var(--fill-color);\n",
              "    border-color: transparent;\n",
              "    border-bottom-color: var(--fill-color);\n",
              "    animation:\n",
              "      spin 1s steps(1) infinite;\n",
              "  }\n",
              "\n",
              "  @keyframes spin {\n",
              "    0% {\n",
              "      border-color: transparent;\n",
              "      border-bottom-color: var(--fill-color);\n",
              "      border-left-color: var(--fill-color);\n",
              "    }\n",
              "    20% {\n",
              "      border-color: transparent;\n",
              "      border-left-color: var(--fill-color);\n",
              "      border-top-color: var(--fill-color);\n",
              "    }\n",
              "    30% {\n",
              "      border-color: transparent;\n",
              "      border-left-color: var(--fill-color);\n",
              "      border-top-color: var(--fill-color);\n",
              "      border-right-color: var(--fill-color);\n",
              "    }\n",
              "    40% {\n",
              "      border-color: transparent;\n",
              "      border-right-color: var(--fill-color);\n",
              "      border-top-color: var(--fill-color);\n",
              "    }\n",
              "    60% {\n",
              "      border-color: transparent;\n",
              "      border-right-color: var(--fill-color);\n",
              "    }\n",
              "    80% {\n",
              "      border-color: transparent;\n",
              "      border-right-color: var(--fill-color);\n",
              "      border-bottom-color: var(--fill-color);\n",
              "    }\n",
              "    90% {\n",
              "      border-color: transparent;\n",
              "      border-bottom-color: var(--fill-color);\n",
              "    }\n",
              "  }\n",
              "</style>\n",
              "\n",
              "  <script>\n",
              "    async function quickchart(key) {\n",
              "      const quickchartButtonEl =\n",
              "        document.querySelector('#' + key + ' button');\n",
              "      quickchartButtonEl.disabled = true;  // To prevent multiple clicks.\n",
              "      quickchartButtonEl.classList.add('colab-df-spinner');\n",
              "      try {\n",
              "        const charts = await google.colab.kernel.invokeFunction(\n",
              "            'suggestCharts', [key], {});\n",
              "      } catch (error) {\n",
              "        console.error('Error during call to suggestCharts:', error);\n",
              "      }\n",
              "      quickchartButtonEl.classList.remove('colab-df-spinner');\n",
              "      quickchartButtonEl.classList.add('colab-df-quickchart-complete');\n",
              "    }\n",
              "    (() => {\n",
              "      let quickchartButtonEl =\n",
              "        document.querySelector('#df-780ec09c-c7eb-4f14-8224-b71c51d20252 button');\n",
              "      quickchartButtonEl.style.display =\n",
              "        google.colab.kernel.accessAllowed ? 'block' : 'none';\n",
              "    })();\n",
              "  </script>\n",
              "</div>\n",
              "\n",
              "    </div>\n",
              "  </div>\n"
            ],
            "application/vnd.google.colaboratory.intrinsic+json": {
              "type": "dataframe",
              "variable_name": "data",
              "summary": "{\n  \"name\": \"data\",\n  \"rows\": 1000,\n  \"fields\": [\n    {\n      \"column\": \"customer_id\",\n      \"properties\": {\n        \"dtype\": \"string\",\n        \"num_unique_values\": 1000,\n        \"samples\": [\n          \"CUST522\",\n          \"CUST738\",\n          \"CUST741\"\n        ],\n        \"semantic_type\": \"\",\n        \"description\": \"\"\n      }\n    },\n    {\n      \"column\": \"churn\",\n      \"properties\": {\n        \"dtype\": \"boolean\",\n        \"num_unique_values\": 2,\n        \"samples\": [\n          false,\n          true\n        ],\n        \"semantic_type\": \"\",\n        \"description\": \"\"\n      }\n    },\n    {\n      \"column\": \"tenure\",\n      \"properties\": {\n        \"dtype\": \"number\",\n        \"std\": 6,\n        \"min\": 1,\n        \"max\": 30,\n        \"num_unique_values\": 29,\n        \"samples\": [\n          24,\n          16\n        ],\n        \"semantic_type\": \"\",\n        \"description\": \"\"\n      }\n    },\n    {\n      \"column\": \"monthly_charges\",\n      \"properties\": {\n        \"dtype\": \"number\",\n        \"std\": 6137425.500661998,\n        \"min\": 2500000.0,\n        \"max\": 34990000.0,\n        \"num_unique_values\": 27,\n        \"samples\": [\n          34990000.0,\n          2700000.0\n        ],\n        \"semantic_type\": \"\",\n        \"description\": \"\"\n      }\n    },\n    {\n      \"column\": \"total_charges\",\n      \"properties\": {\n        \"dtype\": \"number\",\n        \"std\": 18270362.078263365,\n        \"min\": 419850.0,\n        \"max\": 75000000.0,\n        \"num_unique_values\": 109,\n        \"samples\": [\n          45900000.0,\n          75000000.0\n        ],\n        \"semantic_type\": \"\",\n        \"description\": \"\"\n      }\n    },\n    {\n      \"column\": \"contract\",\n      \"properties\": {\n        \"dtype\": \"category\",\n        \"num_unique_values\": 3,\n        \"samples\": [\n          \"one year\",\n          \"month-to-month\"\n        ],\n        \"semantic_type\": \"\",\n        \"description\": \"\"\n      }\n    },\n    {\n      \"column\": \"payment_method\",\n      \"properties\": {\n        \"dtype\": \"category\",\n        \"num_unique_values\": 4,\n        \"samples\": [\n          \"electronic check\",\n          \"mailed check\"\n        ],\n        \"semantic_type\": \"\",\n        \"description\": \"\"\n      }\n    },\n    {\n      \"column\": \"feedback\",\n      \"properties\": {\n        \"dtype\": \"category\",\n        \"num_unique_values\": 294,\n        \"samples\": [\n          \"Not happy with the flower choices\",\n          \"When I come to the store, customer service was respons really good \"\n        ],\n        \"semantic_type\": \"\",\n        \"description\": \"\"\n      }\n    },\n    {\n      \"column\": \"sentiment\",\n      \"properties\": {\n        \"dtype\": \"category\",\n        \"num_unique_values\": 2,\n        \"samples\": [\n          \"negative\",\n          \"positive\"\n        ],\n        \"semantic_type\": \"\",\n        \"description\": \"\"\n      }\n    },\n    {\n      \"column\": \"topic\",\n      \"properties\": {\n        \"dtype\": \"category\",\n        \"num_unique_values\": 8,\n        \"samples\": [\n          \"delivery issues\",\n          \"product quality\"\n        ],\n        \"semantic_type\": \"\",\n        \"description\": \"\"\n      }\n    }\n  ]\n}"
            }
          },
          "metadata": {},
          "execution_count": 4
        }
      ]
    },
    {
      "cell_type": "code",
      "source": [
        "data.info()"
      ],
      "metadata": {
        "colab": {
          "base_uri": "https://localhost:8080/"
        },
        "id": "KS20xOjh53G0",
        "outputId": "247775ba-1ca2-4878-c8ac-d9166fddb3cd"
      },
      "execution_count": 5,
      "outputs": [
        {
          "output_type": "stream",
          "name": "stdout",
          "text": [
            "<class 'pandas.core.frame.DataFrame'>\n",
            "RangeIndex: 1000 entries, 0 to 999\n",
            "Data columns (total 10 columns):\n",
            " #   Column           Non-Null Count  Dtype  \n",
            "---  ------           --------------  -----  \n",
            " 0   customer_id      1000 non-null   object \n",
            " 1   churn            1000 non-null   bool   \n",
            " 2   tenure           1000 non-null   int64  \n",
            " 3   monthly_charges  1000 non-null   float64\n",
            " 4   total_charges    1000 non-null   float64\n",
            " 5   contract         1000 non-null   object \n",
            " 6   payment_method   1000 non-null   object \n",
            " 7   feedback         1000 non-null   object \n",
            " 8   sentiment        1000 non-null   object \n",
            " 9   topic            1000 non-null   object \n",
            "dtypes: bool(1), float64(2), int64(1), object(6)\n",
            "memory usage: 71.4+ KB\n"
          ]
        }
      ]
    },
    {
      "cell_type": "code",
      "source": [
        "# See is data has a duplicate data\n",
        "data.duplicated().sum()"
      ],
      "metadata": {
        "id": "EyjGCYfONoPg",
        "colab": {
          "base_uri": "https://localhost:8080/"
        },
        "outputId": "ea0dd97d-2df0-4098-9e3e-6877f2876547"
      },
      "execution_count": 6,
      "outputs": [
        {
          "output_type": "execute_result",
          "data": {
            "text/plain": [
              "0"
            ]
          },
          "metadata": {},
          "execution_count": 6
        }
      ]
    },
    {
      "cell_type": "markdown",
      "source": [
        "Data has no duplicate."
      ],
      "metadata": {
        "id": "POpbU-rFNtdR"
      }
    },
    {
      "cell_type": "code",
      "source": [
        "# See is data has a missing value\n",
        "data.isnull().sum()"
      ],
      "metadata": {
        "id": "czWJ4LigNzL8",
        "colab": {
          "base_uri": "https://localhost:8080/",
          "height": 397
        },
        "outputId": "c70086d8-a7b8-43f9-9b32-a4917f9591c8"
      },
      "execution_count": 7,
      "outputs": [
        {
          "output_type": "execute_result",
          "data": {
            "text/plain": [
              "customer_id        0\n",
              "churn              0\n",
              "tenure             0\n",
              "monthly_charges    0\n",
              "total_charges      0\n",
              "contract           0\n",
              "payment_method     0\n",
              "feedback           0\n",
              "sentiment          0\n",
              "topic              0\n",
              "dtype: int64"
            ],
            "text/html": [
              "<div>\n",
              "<style scoped>\n",
              "    .dataframe tbody tr th:only-of-type {\n",
              "        vertical-align: middle;\n",
              "    }\n",
              "\n",
              "    .dataframe tbody tr th {\n",
              "        vertical-align: top;\n",
              "    }\n",
              "\n",
              "    .dataframe thead th {\n",
              "        text-align: right;\n",
              "    }\n",
              "</style>\n",
              "<table border=\"1\" class=\"dataframe\">\n",
              "  <thead>\n",
              "    <tr style=\"text-align: right;\">\n",
              "      <th></th>\n",
              "      <th>0</th>\n",
              "    </tr>\n",
              "  </thead>\n",
              "  <tbody>\n",
              "    <tr>\n",
              "      <th>customer_id</th>\n",
              "      <td>0</td>\n",
              "    </tr>\n",
              "    <tr>\n",
              "      <th>churn</th>\n",
              "      <td>0</td>\n",
              "    </tr>\n",
              "    <tr>\n",
              "      <th>tenure</th>\n",
              "      <td>0</td>\n",
              "    </tr>\n",
              "    <tr>\n",
              "      <th>monthly_charges</th>\n",
              "      <td>0</td>\n",
              "    </tr>\n",
              "    <tr>\n",
              "      <th>total_charges</th>\n",
              "      <td>0</td>\n",
              "    </tr>\n",
              "    <tr>\n",
              "      <th>contract</th>\n",
              "      <td>0</td>\n",
              "    </tr>\n",
              "    <tr>\n",
              "      <th>payment_method</th>\n",
              "      <td>0</td>\n",
              "    </tr>\n",
              "    <tr>\n",
              "      <th>feedback</th>\n",
              "      <td>0</td>\n",
              "    </tr>\n",
              "    <tr>\n",
              "      <th>sentiment</th>\n",
              "      <td>0</td>\n",
              "    </tr>\n",
              "    <tr>\n",
              "      <th>topic</th>\n",
              "      <td>0</td>\n",
              "    </tr>\n",
              "  </tbody>\n",
              "</table>\n",
              "</div><br><label><b>dtype:</b> int64</label>"
            ]
          },
          "metadata": {},
          "execution_count": 7
        }
      ]
    },
    {
      "cell_type": "markdown",
      "source": [
        "Data has no missing value."
      ],
      "metadata": {
        "id": "9wudzE76N3ge"
      }
    },
    {
      "cell_type": "code",
      "source": [
        "# Know data type\n",
        "numerical = ['monthly_charges','tenure','total_charges']\n",
        "unique = ['customer_id','feedback']\n",
        "categorical = ['contract', 'sentiment', 'topic']\n",
        "target = ['churn']"
      ],
      "metadata": {
        "id": "MZn7ULMRPY6r"
      },
      "execution_count": 8,
      "outputs": []
    },
    {
      "cell_type": "markdown",
      "source": [
        "# 4. Feature Engineering"
      ],
      "metadata": {
        "id": "u9RA0IeRO7NA"
      }
    },
    {
      "cell_type": "markdown",
      "source": [
        "## 4.1. Feature Selection"
      ],
      "metadata": {
        "id": "orV73Q0mOUj2"
      }
    },
    {
      "cell_type": "markdown",
      "source": [
        "See corelation between every feature to target (churn)"
      ],
      "metadata": {
        "id": "fOtgo1u3RomV"
      }
    },
    {
      "cell_type": "code",
      "source": [
        "phik_overview = data[numerical + categorical + target].phik_matrix()\n",
        "phik_overview"
      ],
      "metadata": {
        "id": "JcliR2_hPHiB",
        "colab": {
          "base_uri": "https://localhost:8080/",
          "height": 287
        },
        "outputId": "9233bfd4-bf3e-4d52-e4be-a4cdc4ed8b1b"
      },
      "execution_count": 9,
      "outputs": [
        {
          "output_type": "stream",
          "name": "stdout",
          "text": [
            "interval columns not set, guessing: ['monthly_charges', 'tenure', 'total_charges']\n"
          ]
        },
        {
          "output_type": "execute_result",
          "data": {
            "text/plain": [
              "                 monthly_charges    tenure  total_charges  contract  \\\n",
              "monthly_charges         1.000000  0.398329       0.471629  0.189315   \n",
              "tenure                  0.398329  1.000000       0.965126  0.808046   \n",
              "total_charges           0.471629  0.965126       1.000000  0.742758   \n",
              "contract                0.189315  0.808046       0.742758  1.000000   \n",
              "sentiment               0.291844  0.955717       0.886993  0.563471   \n",
              "topic                   0.391209  0.550226       0.487608  0.629168   \n",
              "churn                   0.339607  0.965793       0.890848  0.584262   \n",
              "\n",
              "                 sentiment     topic     churn  \n",
              "monthly_charges   0.291844  0.391209  0.339607  \n",
              "tenure            0.955717  0.550226  0.965793  \n",
              "total_charges     0.886993  0.487608  0.890848  \n",
              "contract          0.563471  0.629168  0.584262  \n",
              "sentiment         1.000000  0.734249  0.877638  \n",
              "topic             0.734249  1.000000  0.752073  \n",
              "churn             0.877638  0.752073  1.000000  "
            ],
            "text/html": [
              "\n",
              "  <div id=\"df-65079076-a5e5-4be1-ab71-15e8cb801876\" class=\"colab-df-container\">\n",
              "    <div>\n",
              "<style scoped>\n",
              "    .dataframe tbody tr th:only-of-type {\n",
              "        vertical-align: middle;\n",
              "    }\n",
              "\n",
              "    .dataframe tbody tr th {\n",
              "        vertical-align: top;\n",
              "    }\n",
              "\n",
              "    .dataframe thead th {\n",
              "        text-align: right;\n",
              "    }\n",
              "</style>\n",
              "<table border=\"1\" class=\"dataframe\">\n",
              "  <thead>\n",
              "    <tr style=\"text-align: right;\">\n",
              "      <th></th>\n",
              "      <th>monthly_charges</th>\n",
              "      <th>tenure</th>\n",
              "      <th>total_charges</th>\n",
              "      <th>contract</th>\n",
              "      <th>sentiment</th>\n",
              "      <th>topic</th>\n",
              "      <th>churn</th>\n",
              "    </tr>\n",
              "  </thead>\n",
              "  <tbody>\n",
              "    <tr>\n",
              "      <th>monthly_charges</th>\n",
              "      <td>1.000000</td>\n",
              "      <td>0.398329</td>\n",
              "      <td>0.471629</td>\n",
              "      <td>0.189315</td>\n",
              "      <td>0.291844</td>\n",
              "      <td>0.391209</td>\n",
              "      <td>0.339607</td>\n",
              "    </tr>\n",
              "    <tr>\n",
              "      <th>tenure</th>\n",
              "      <td>0.398329</td>\n",
              "      <td>1.000000</td>\n",
              "      <td>0.965126</td>\n",
              "      <td>0.808046</td>\n",
              "      <td>0.955717</td>\n",
              "      <td>0.550226</td>\n",
              "      <td>0.965793</td>\n",
              "    </tr>\n",
              "    <tr>\n",
              "      <th>total_charges</th>\n",
              "      <td>0.471629</td>\n",
              "      <td>0.965126</td>\n",
              "      <td>1.000000</td>\n",
              "      <td>0.742758</td>\n",
              "      <td>0.886993</td>\n",
              "      <td>0.487608</td>\n",
              "      <td>0.890848</td>\n",
              "    </tr>\n",
              "    <tr>\n",
              "      <th>contract</th>\n",
              "      <td>0.189315</td>\n",
              "      <td>0.808046</td>\n",
              "      <td>0.742758</td>\n",
              "      <td>1.000000</td>\n",
              "      <td>0.563471</td>\n",
              "      <td>0.629168</td>\n",
              "      <td>0.584262</td>\n",
              "    </tr>\n",
              "    <tr>\n",
              "      <th>sentiment</th>\n",
              "      <td>0.291844</td>\n",
              "      <td>0.955717</td>\n",
              "      <td>0.886993</td>\n",
              "      <td>0.563471</td>\n",
              "      <td>1.000000</td>\n",
              "      <td>0.734249</td>\n",
              "      <td>0.877638</td>\n",
              "    </tr>\n",
              "    <tr>\n",
              "      <th>topic</th>\n",
              "      <td>0.391209</td>\n",
              "      <td>0.550226</td>\n",
              "      <td>0.487608</td>\n",
              "      <td>0.629168</td>\n",
              "      <td>0.734249</td>\n",
              "      <td>1.000000</td>\n",
              "      <td>0.752073</td>\n",
              "    </tr>\n",
              "    <tr>\n",
              "      <th>churn</th>\n",
              "      <td>0.339607</td>\n",
              "      <td>0.965793</td>\n",
              "      <td>0.890848</td>\n",
              "      <td>0.584262</td>\n",
              "      <td>0.877638</td>\n",
              "      <td>0.752073</td>\n",
              "      <td>1.000000</td>\n",
              "    </tr>\n",
              "  </tbody>\n",
              "</table>\n",
              "</div>\n",
              "    <div class=\"colab-df-buttons\">\n",
              "\n",
              "  <div class=\"colab-df-container\">\n",
              "    <button class=\"colab-df-convert\" onclick=\"convertToInteractive('df-65079076-a5e5-4be1-ab71-15e8cb801876')\"\n",
              "            title=\"Convert this dataframe to an interactive table.\"\n",
              "            style=\"display:none;\">\n",
              "\n",
              "  <svg xmlns=\"http://www.w3.org/2000/svg\" height=\"24px\" viewBox=\"0 -960 960 960\">\n",
              "    <path d=\"M120-120v-720h720v720H120Zm60-500h600v-160H180v160Zm220 220h160v-160H400v160Zm0 220h160v-160H400v160ZM180-400h160v-160H180v160Zm440 0h160v-160H620v160ZM180-180h160v-160H180v160Zm440 0h160v-160H620v160Z\"/>\n",
              "  </svg>\n",
              "    </button>\n",
              "\n",
              "  <style>\n",
              "    .colab-df-container {\n",
              "      display:flex;\n",
              "      gap: 12px;\n",
              "    }\n",
              "\n",
              "    .colab-df-convert {\n",
              "      background-color: #E8F0FE;\n",
              "      border: none;\n",
              "      border-radius: 50%;\n",
              "      cursor: pointer;\n",
              "      display: none;\n",
              "      fill: #1967D2;\n",
              "      height: 32px;\n",
              "      padding: 0 0 0 0;\n",
              "      width: 32px;\n",
              "    }\n",
              "\n",
              "    .colab-df-convert:hover {\n",
              "      background-color: #E2EBFA;\n",
              "      box-shadow: 0px 1px 2px rgba(60, 64, 67, 0.3), 0px 1px 3px 1px rgba(60, 64, 67, 0.15);\n",
              "      fill: #174EA6;\n",
              "    }\n",
              "\n",
              "    .colab-df-buttons div {\n",
              "      margin-bottom: 4px;\n",
              "    }\n",
              "\n",
              "    [theme=dark] .colab-df-convert {\n",
              "      background-color: #3B4455;\n",
              "      fill: #D2E3FC;\n",
              "    }\n",
              "\n",
              "    [theme=dark] .colab-df-convert:hover {\n",
              "      background-color: #434B5C;\n",
              "      box-shadow: 0px 1px 3px 1px rgba(0, 0, 0, 0.15);\n",
              "      filter: drop-shadow(0px 1px 2px rgba(0, 0, 0, 0.3));\n",
              "      fill: #FFFFFF;\n",
              "    }\n",
              "  </style>\n",
              "\n",
              "    <script>\n",
              "      const buttonEl =\n",
              "        document.querySelector('#df-65079076-a5e5-4be1-ab71-15e8cb801876 button.colab-df-convert');\n",
              "      buttonEl.style.display =\n",
              "        google.colab.kernel.accessAllowed ? 'block' : 'none';\n",
              "\n",
              "      async function convertToInteractive(key) {\n",
              "        const element = document.querySelector('#df-65079076-a5e5-4be1-ab71-15e8cb801876');\n",
              "        const dataTable =\n",
              "          await google.colab.kernel.invokeFunction('convertToInteractive',\n",
              "                                                    [key], {});\n",
              "        if (!dataTable) return;\n",
              "\n",
              "        const docLinkHtml = 'Like what you see? Visit the ' +\n",
              "          '<a target=\"_blank\" href=https://colab.research.google.com/notebooks/data_table.ipynb>data table notebook</a>'\n",
              "          + ' to learn more about interactive tables.';\n",
              "        element.innerHTML = '';\n",
              "        dataTable['output_type'] = 'display_data';\n",
              "        await google.colab.output.renderOutput(dataTable, element);\n",
              "        const docLink = document.createElement('div');\n",
              "        docLink.innerHTML = docLinkHtml;\n",
              "        element.appendChild(docLink);\n",
              "      }\n",
              "    </script>\n",
              "  </div>\n",
              "\n",
              "\n",
              "<div id=\"df-c88f8138-2cfa-48cd-ba34-71a56bb87e85\">\n",
              "  <button class=\"colab-df-quickchart\" onclick=\"quickchart('df-c88f8138-2cfa-48cd-ba34-71a56bb87e85')\"\n",
              "            title=\"Suggest charts\"\n",
              "            style=\"display:none;\">\n",
              "\n",
              "<svg xmlns=\"http://www.w3.org/2000/svg\" height=\"24px\"viewBox=\"0 0 24 24\"\n",
              "     width=\"24px\">\n",
              "    <g>\n",
              "        <path d=\"M19 3H5c-1.1 0-2 .9-2 2v14c0 1.1.9 2 2 2h14c1.1 0 2-.9 2-2V5c0-1.1-.9-2-2-2zM9 17H7v-7h2v7zm4 0h-2V7h2v10zm4 0h-2v-4h2v4z\"/>\n",
              "    </g>\n",
              "</svg>\n",
              "  </button>\n",
              "\n",
              "<style>\n",
              "  .colab-df-quickchart {\n",
              "      --bg-color: #E8F0FE;\n",
              "      --fill-color: #1967D2;\n",
              "      --hover-bg-color: #E2EBFA;\n",
              "      --hover-fill-color: #174EA6;\n",
              "      --disabled-fill-color: #AAA;\n",
              "      --disabled-bg-color: #DDD;\n",
              "  }\n",
              "\n",
              "  [theme=dark] .colab-df-quickchart {\n",
              "      --bg-color: #3B4455;\n",
              "      --fill-color: #D2E3FC;\n",
              "      --hover-bg-color: #434B5C;\n",
              "      --hover-fill-color: #FFFFFF;\n",
              "      --disabled-bg-color: #3B4455;\n",
              "      --disabled-fill-color: #666;\n",
              "  }\n",
              "\n",
              "  .colab-df-quickchart {\n",
              "    background-color: var(--bg-color);\n",
              "    border: none;\n",
              "    border-radius: 50%;\n",
              "    cursor: pointer;\n",
              "    display: none;\n",
              "    fill: var(--fill-color);\n",
              "    height: 32px;\n",
              "    padding: 0;\n",
              "    width: 32px;\n",
              "  }\n",
              "\n",
              "  .colab-df-quickchart:hover {\n",
              "    background-color: var(--hover-bg-color);\n",
              "    box-shadow: 0 1px 2px rgba(60, 64, 67, 0.3), 0 1px 3px 1px rgba(60, 64, 67, 0.15);\n",
              "    fill: var(--button-hover-fill-color);\n",
              "  }\n",
              "\n",
              "  .colab-df-quickchart-complete:disabled,\n",
              "  .colab-df-quickchart-complete:disabled:hover {\n",
              "    background-color: var(--disabled-bg-color);\n",
              "    fill: var(--disabled-fill-color);\n",
              "    box-shadow: none;\n",
              "  }\n",
              "\n",
              "  .colab-df-spinner {\n",
              "    border: 2px solid var(--fill-color);\n",
              "    border-color: transparent;\n",
              "    border-bottom-color: var(--fill-color);\n",
              "    animation:\n",
              "      spin 1s steps(1) infinite;\n",
              "  }\n",
              "\n",
              "  @keyframes spin {\n",
              "    0% {\n",
              "      border-color: transparent;\n",
              "      border-bottom-color: var(--fill-color);\n",
              "      border-left-color: var(--fill-color);\n",
              "    }\n",
              "    20% {\n",
              "      border-color: transparent;\n",
              "      border-left-color: var(--fill-color);\n",
              "      border-top-color: var(--fill-color);\n",
              "    }\n",
              "    30% {\n",
              "      border-color: transparent;\n",
              "      border-left-color: var(--fill-color);\n",
              "      border-top-color: var(--fill-color);\n",
              "      border-right-color: var(--fill-color);\n",
              "    }\n",
              "    40% {\n",
              "      border-color: transparent;\n",
              "      border-right-color: var(--fill-color);\n",
              "      border-top-color: var(--fill-color);\n",
              "    }\n",
              "    60% {\n",
              "      border-color: transparent;\n",
              "      border-right-color: var(--fill-color);\n",
              "    }\n",
              "    80% {\n",
              "      border-color: transparent;\n",
              "      border-right-color: var(--fill-color);\n",
              "      border-bottom-color: var(--fill-color);\n",
              "    }\n",
              "    90% {\n",
              "      border-color: transparent;\n",
              "      border-bottom-color: var(--fill-color);\n",
              "    }\n",
              "  }\n",
              "</style>\n",
              "\n",
              "  <script>\n",
              "    async function quickchart(key) {\n",
              "      const quickchartButtonEl =\n",
              "        document.querySelector('#' + key + ' button');\n",
              "      quickchartButtonEl.disabled = true;  // To prevent multiple clicks.\n",
              "      quickchartButtonEl.classList.add('colab-df-spinner');\n",
              "      try {\n",
              "        const charts = await google.colab.kernel.invokeFunction(\n",
              "            'suggestCharts', [key], {});\n",
              "      } catch (error) {\n",
              "        console.error('Error during call to suggestCharts:', error);\n",
              "      }\n",
              "      quickchartButtonEl.classList.remove('colab-df-spinner');\n",
              "      quickchartButtonEl.classList.add('colab-df-quickchart-complete');\n",
              "    }\n",
              "    (() => {\n",
              "      let quickchartButtonEl =\n",
              "        document.querySelector('#df-c88f8138-2cfa-48cd-ba34-71a56bb87e85 button');\n",
              "      quickchartButtonEl.style.display =\n",
              "        google.colab.kernel.accessAllowed ? 'block' : 'none';\n",
              "    })();\n",
              "  </script>\n",
              "</div>\n",
              "\n",
              "  <div id=\"id_805c3dad-ccb2-4e8c-bf71-afa4b1bc9ca4\">\n",
              "    <style>\n",
              "      .colab-df-generate {\n",
              "        background-color: #E8F0FE;\n",
              "        border: none;\n",
              "        border-radius: 50%;\n",
              "        cursor: pointer;\n",
              "        display: none;\n",
              "        fill: #1967D2;\n",
              "        height: 32px;\n",
              "        padding: 0 0 0 0;\n",
              "        width: 32px;\n",
              "      }\n",
              "\n",
              "      .colab-df-generate:hover {\n",
              "        background-color: #E2EBFA;\n",
              "        box-shadow: 0px 1px 2px rgba(60, 64, 67, 0.3), 0px 1px 3px 1px rgba(60, 64, 67, 0.15);\n",
              "        fill: #174EA6;\n",
              "      }\n",
              "\n",
              "      [theme=dark] .colab-df-generate {\n",
              "        background-color: #3B4455;\n",
              "        fill: #D2E3FC;\n",
              "      }\n",
              "\n",
              "      [theme=dark] .colab-df-generate:hover {\n",
              "        background-color: #434B5C;\n",
              "        box-shadow: 0px 1px 3px 1px rgba(0, 0, 0, 0.15);\n",
              "        filter: drop-shadow(0px 1px 2px rgba(0, 0, 0, 0.3));\n",
              "        fill: #FFFFFF;\n",
              "      }\n",
              "    </style>\n",
              "    <button class=\"colab-df-generate\" onclick=\"generateWithVariable('phik_overview')\"\n",
              "            title=\"Generate code using this dataframe.\"\n",
              "            style=\"display:none;\">\n",
              "\n",
              "  <svg xmlns=\"http://www.w3.org/2000/svg\" height=\"24px\"viewBox=\"0 0 24 24\"\n",
              "       width=\"24px\">\n",
              "    <path d=\"M7,19H8.4L18.45,9,17,7.55,7,17.6ZM5,21V16.75L18.45,3.32a2,2,0,0,1,2.83,0l1.4,1.43a1.91,1.91,0,0,1,.58,1.4,1.91,1.91,0,0,1-.58,1.4L9.25,21ZM18.45,9,17,7.55Zm-12,3A5.31,5.31,0,0,0,4.9,8.1,5.31,5.31,0,0,0,1,6.5,5.31,5.31,0,0,0,4.9,4.9,5.31,5.31,0,0,0,6.5,1,5.31,5.31,0,0,0,8.1,4.9,5.31,5.31,0,0,0,12,6.5,5.46,5.46,0,0,0,6.5,12Z\"/>\n",
              "  </svg>\n",
              "    </button>\n",
              "    <script>\n",
              "      (() => {\n",
              "      const buttonEl =\n",
              "        document.querySelector('#id_805c3dad-ccb2-4e8c-bf71-afa4b1bc9ca4 button.colab-df-generate');\n",
              "      buttonEl.style.display =\n",
              "        google.colab.kernel.accessAllowed ? 'block' : 'none';\n",
              "\n",
              "      buttonEl.onclick = () => {\n",
              "        google.colab.notebook.generateWithVariable('phik_overview');\n",
              "      }\n",
              "      })();\n",
              "    </script>\n",
              "  </div>\n",
              "\n",
              "    </div>\n",
              "  </div>\n"
            ],
            "application/vnd.google.colaboratory.intrinsic+json": {
              "type": "dataframe",
              "variable_name": "phik_overview",
              "summary": "{\n  \"name\": \"phik_overview\",\n  \"rows\": 7,\n  \"fields\": [\n    {\n      \"column\": \"monthly_charges\",\n      \"properties\": {\n        \"dtype\": \"number\",\n        \"std\": 0.2625480102488388,\n        \"min\": 0.18931520277760738,\n        \"max\": 1.0,\n        \"num_unique_values\": 7,\n        \"samples\": [\n          1.0,\n          0.3983286866197226,\n          0.39120947529244626\n        ],\n        \"semantic_type\": \"\",\n        \"description\": \"\"\n      }\n    },\n    {\n      \"column\": \"tenure\",\n      \"properties\": {\n        \"dtype\": \"number\",\n        \"std\": 0.23893036706311566,\n        \"min\": 0.3983286866197226,\n        \"max\": 1.0,\n        \"num_unique_values\": 7,\n        \"samples\": [\n          0.3983286866197226,\n          1.0,\n          0.5502258841451236\n        ],\n        \"semantic_type\": \"\",\n        \"description\": \"\"\n      }\n    },\n    {\n      \"column\": \"total_charges\",\n      \"properties\": {\n        \"dtype\": \"number\",\n        \"std\": 0.21922102178220335,\n        \"min\": 0.4716287798927196,\n        \"max\": 1.0,\n        \"num_unique_values\": 7,\n        \"samples\": [\n          0.4716287798927196,\n          0.9651261016537785,\n          0.4876077153612201\n        ],\n        \"semantic_type\": \"\",\n        \"description\": \"\"\n      }\n    },\n    {\n      \"column\": \"contract\",\n      \"properties\": {\n        \"dtype\": \"number\",\n        \"std\": 0.2517937303230294,\n        \"min\": 0.18931520277760738,\n        \"max\": 1.0,\n        \"num_unique_values\": 7,\n        \"samples\": [\n          0.18931520277760738,\n          0.8080463005539015,\n          0.629168445642883\n        ],\n        \"semantic_type\": \"\",\n        \"description\": \"\"\n      }\n    },\n    {\n      \"column\": \"sentiment\",\n      \"properties\": {\n        \"dtype\": \"number\",\n        \"std\": 0.2530855467119747,\n        \"min\": 0.2918437061597916,\n        \"max\": 1.0,\n        \"num_unique_values\": 7,\n        \"samples\": [\n          0.2918437061597916,\n          0.955717298455809,\n          0.7342491942725714\n        ],\n        \"semantic_type\": \"\",\n        \"description\": \"\"\n      }\n    },\n    {\n      \"column\": \"topic\",\n      \"properties\": {\n        \"dtype\": \"number\",\n        \"std\": 0.20155441021410636,\n        \"min\": 0.39120947529244626,\n        \"max\": 1.0,\n        \"num_unique_values\": 7,\n        \"samples\": [\n          0.39120947529244626,\n          0.5502258841451236,\n          1.0\n        ],\n        \"semantic_type\": \"\",\n        \"description\": \"\"\n      }\n    },\n    {\n      \"column\": \"churn\",\n      \"properties\": {\n        \"dtype\": \"number\",\n        \"std\": 0.23714424278469776,\n        \"min\": 0.33960711410662786,\n        \"max\": 1.0,\n        \"num_unique_values\": 7,\n        \"samples\": [\n          0.33960711410662786,\n          0.9657925819564604,\n          0.7520725555166546\n        ],\n        \"semantic_type\": \"\",\n        \"description\": \"\"\n      }\n    }\n  ]\n}"
            }
          },
          "metadata": {},
          "execution_count": 9
        }
      ]
    },
    {
      "cell_type": "markdown",
      "source": [
        "We add treshold 30% correlation to target, so we can drop payment_method from data."
      ],
      "metadata": {
        "id": "wMQTUldlRxiY"
      }
    },
    {
      "cell_type": "markdown",
      "source": [
        "## 4.2. Split data"
      ],
      "metadata": {
        "id": "RAAY_qi2O-JH"
      }
    },
    {
      "cell_type": "code",
      "source": [
        "# Split data and target\n",
        "X = data.drop(columns=['churn', 'payment_method'])\n",
        "y = data['churn']"
      ],
      "metadata": {
        "id": "wgZ4oXi-PEFJ"
      },
      "execution_count": 10,
      "outputs": []
    },
    {
      "cell_type": "code",
      "source": [
        "# Split train and test\n",
        "X_train, X_test, y_train, y_test = train_test_split(X, y, test_size=0.2, random_state=42)"
      ],
      "metadata": {
        "id": "h0FaF7FtWDbr"
      },
      "execution_count": 11,
      "outputs": []
    },
    {
      "cell_type": "markdown",
      "source": [
        "## 4.3. Check cardinality\n"
      ],
      "metadata": {
        "id": "6oX5VE3wT8LO"
      }
    },
    {
      "cell_type": "code",
      "source": [
        "# Check cardinality for categorical data\n",
        "for column in categorical:\n",
        "    print(column, X_train[column].nunique())"
      ],
      "metadata": {
        "id": "hBM2AE4fT_Xm",
        "colab": {
          "base_uri": "https://localhost:8080/"
        },
        "outputId": "af2ef290-62b1-4fbe-8ccc-aa88db6804a2"
      },
      "execution_count": 12,
      "outputs": [
        {
          "output_type": "stream",
          "name": "stdout",
          "text": [
            "contract 3\n",
            "sentiment 2\n",
            "topic 8\n"
          ]
        }
      ]
    },
    {
      "cell_type": "code",
      "source": [
        "data['payment_method'].unique()"
      ],
      "metadata": {
        "colab": {
          "base_uri": "https://localhost:8080/"
        },
        "id": "YiWXDFWb8lzh",
        "outputId": "e3d0bdef-42d5-4b36-bc9a-a16009712c72"
      },
      "execution_count": 13,
      "outputs": [
        {
          "output_type": "execute_result",
          "data": {
            "text/plain": [
              "array(['credit card', 'electronic check', 'bank transfer', 'mailed check'],\n",
              "      dtype=object)"
            ]
          },
          "metadata": {},
          "execution_count": 13
        }
      ]
    },
    {
      "cell_type": "code",
      "source": [
        "# Check cardinality for unique data\n",
        "for column in unique:\n",
        "    print(column, X_train[column].nunique())"
      ],
      "metadata": {
        "id": "c64pxE-cUKLM",
        "colab": {
          "base_uri": "https://localhost:8080/"
        },
        "outputId": "899f420a-adc3-4fc2-e7bc-01cad0a4f782"
      },
      "execution_count": 14,
      "outputs": [
        {
          "output_type": "stream",
          "name": "stdout",
          "text": [
            "customer_id 800\n",
            "feedback 254\n"
          ]
        }
      ]
    },
    {
      "cell_type": "markdown",
      "source": [
        "Because unique data has a lot cardinality, so were not gonna use unique data."
      ],
      "metadata": {
        "id": "1Mp5UL7dUfOf"
      }
    },
    {
      "cell_type": "markdown",
      "source": [
        "## 4.4. Check apakah data outlier\n"
      ],
      "metadata": {
        "id": "2uhUDX6jPH4X"
      }
    },
    {
      "cell_type": "code",
      "source": [
        "# Check outlier from numerical data\n",
        "data_extreme = []\n",
        "data_skew = []\n",
        "data_normal = []\n",
        "\n",
        "def cek_skew(data):\n",
        "    for column in numerical:\n",
        "        if data[column].skew() >= 1 or data[column].skew() <= -1:\n",
        "            data_extreme.append(column)\n",
        "        elif data[column].skew() >= 0.5 or data[column].skew() <= -0.5:\n",
        "            data_skew.append(column)\n",
        "        else:\n",
        "            data_normal.append(column)\n",
        "    print('Data extreme = ', data_extreme)\n",
        "    print('Data skew = ', data_skew)\n",
        "    print('Data normal = ', data_normal)\n",
        "\n",
        "cek_skew(X_train)"
      ],
      "metadata": {
        "id": "qz5YJeNMPNfx",
        "colab": {
          "base_uri": "https://localhost:8080/"
        },
        "outputId": "89139a2d-10e7-4ec5-bff2-14f305bd84df"
      },
      "execution_count": 15,
      "outputs": [
        {
          "output_type": "stream",
          "name": "stdout",
          "text": [
            "Data extreme =  ['monthly_charges']\n",
            "Data skew =  []\n",
            "Data normal =  ['tenure', 'total_charges']\n"
          ]
        }
      ]
    },
    {
      "cell_type": "markdown",
      "source": [
        "Apply capping to numeric data, so that the data is not too skewed."
      ],
      "metadata": {
        "id": "iatB5lc3Vgmz"
      }
    },
    {
      "cell_type": "code",
      "source": [
        "normal_cap = Winsorizer(capping_method='gaussian',\n",
        "                        fold = 3,\n",
        "                        tail = 'both',\n",
        "                        variables = data_normal)\n",
        "extreme_cap = Winsorizer(capping_method='iqr',\n",
        "                         fold=3,\n",
        "                         tail = 'both',\n",
        "                         variables = data_extreme)"
      ],
      "metadata": {
        "id": "-bd-IiUFW3H6"
      },
      "execution_count": 16,
      "outputs": []
    },
    {
      "cell_type": "markdown",
      "source": [
        "## 4.5. Data Scaling"
      ],
      "metadata": {
        "id": "0OYymafmXTok"
      }
    },
    {
      "cell_type": "markdown",
      "source": [
        "Apply data scaling for numerical data."
      ],
      "metadata": {
        "id": "8YeWQwMebAao"
      }
    },
    {
      "cell_type": "code",
      "source": [
        "num_normal_scale = Pipeline([\n",
        "    ('winsorizer', normal_cap),\n",
        "    ('scaler', StandardScaler())\n",
        "])\n",
        "\n",
        "num_skew_scale = Pipeline([\n",
        "    ('winsorizer', extreme_cap),\n",
        "    ('robust', RobustScaler())\n",
        "])"
      ],
      "metadata": {
        "id": "5utiCAOhVLPz"
      },
      "execution_count": 17,
      "outputs": []
    },
    {
      "cell_type": "markdown",
      "source": [
        "## 4.6. Data Encoding"
      ],
      "metadata": {
        "id": "DJU1hHPSX23G"
      }
    },
    {
      "cell_type": "markdown",
      "source": [
        "Apply encode for every categorical data."
      ],
      "metadata": {
        "id": "nCz6SfJOVumJ"
      }
    },
    {
      "cell_type": "code",
      "source": [
        "Nominal_encoding = Pipeline([\n",
        "    ('imputer', SimpleImputer(strategy='most_frequent')),  # impute missing values with the most frequent category\n",
        "    ('onehot', OneHotEncoder(handle_unknown='ignore'))\n",
        "])"
      ],
      "metadata": {
        "id": "oGZZWpHWX0Uw"
      },
      "execution_count": 18,
      "outputs": []
    },
    {
      "cell_type": "code",
      "source": [
        "\n",
        "preprocessor = ColumnTransformer(\n",
        "    transformers=[\n",
        "        ('cat_nominal', Nominal_encoding, categorical)\n",
        "        ,('num_skew', num_skew_scale,data_extreme)\n",
        "        ,('num_normal',num_normal_scale, data_normal)\n",
        "\n",
        "    ], remainder='drop')"
      ],
      "metadata": {
        "id": "BzFPjlzmVyg9"
      },
      "execution_count": 19,
      "outputs": []
    },
    {
      "cell_type": "markdown",
      "source": [
        "# 5. Before Tune Model"
      ],
      "metadata": {
        "id": "_MvhtpEVYZBG"
      }
    },
    {
      "cell_type": "markdown",
      "source": [
        "## 5.1. Cross Validation for see the best model\n"
      ],
      "metadata": {
        "id": "mduxM-oUgczt"
      }
    },
    {
      "cell_type": "markdown",
      "source": [
        "Use Cross Validation for seek model with the best accuration between :\n",
        "\n",
        "1. XGBClassifier The XGBClassifier is a supervised learning model from the XGBoost library. It's an implementation of the Extreme Gradient Boosting algorithm, which is a popular and powerful ensemble method for classification tasks. XGBoost is known for its speed, scalability, and accuracy.\n",
        "\n",
        "2. RandomForestClassifier The RandomForestClassifier is a supervised learning model from scikit-learn's ensemble module. It's an ensemble method that combines multiple decision trees to improve the accuracy and robustness of predictions. Random forests are effective in handling high-dimensional data and can handle both categorical and numerical features.\n",
        "\n",
        "3. LogisticRegression The LogisticRegression model is a linear model from scikit-learn's linear_model module. It's a widely used algorithm for binary classification problems, where the goal is to predict a probability of an event occurring (e.g., 0 or 1, yes or no). Logistic regression is simple to implement and interpret, but may not perform well with complex, non-linear relationships.\n",
        "\n",
        "4. SVC (Support Vector Classifier) The SVC model is a supervised learning model from scikit-learn's svm module. It's an implementation of the Support Vector Machine algorithm, which aims to find a hyperplane that maximally separates classes in the feature space. SVC is effective in handling high-dimensional data and can be used for both classification and regression tasks.\n",
        "\n",
        "5. KNeighborsClassifier The KNeighborsClassifier model is a supervised learning model from scikit-learn's neighbors module. It's an implementation of the k-Nearest Neighbors algorithm, which predicts the class label of a new instance based on the majority vote of its k nearest neighbors. KNN is a simple, non-parametric method that can be effective for small to medium-sized datasets.\n",
        "\n",
        "6. DecisionTreeClassifier The DecisionTreeClassifier model is a supervised learning model from scikit-learn's tree module. It's an implementation of the Decision Tree algorithm, which recursively partitions the feature space to predict class labels. Decision trees are easy to interpret and can handle both categorical and numerical features.\n",
        "\n",
        "7. GaussianNB (Gaussian Naive Bayes) The GaussianNB model is a supervised learning model from scikit-learn's naive_bayes module. It's an implementation of the Naive Bayes algorithm, which assumes independence between features. GaussianNB is a simple, probabilistic method that can be effective for binary classification problems with continuous features."
      ],
      "metadata": {
        "id": "OQ_2YyGlc7mB"
      }
    },
    {
      "cell_type": "code",
      "source": [
        "# Membuat pipeline untuk setiap model yang akan dibandingkan\n",
        "pipe_svc = Pipeline([('preprocessor', preprocessor), ('classifier', SVC())])\n",
        "pipe_dt = Pipeline([('preprocessor', preprocessor),('classifier', DecisionTreeClassifier(random_state=10))])\n",
        "pipe_rf = Pipeline([('preprocessor', preprocessor), ('classifier', RandomForestClassifier(random_state=10))])\n",
        "pipe_knn = Pipeline([('preprocessor', preprocessor), ('classifier', KNeighborsClassifier())])\n",
        "pipe_nb = Pipeline([('preprocessor', preprocessor),('classifier', GaussianNB())])\n",
        "pipe_xgb = Pipeline([('preprocessor', preprocessor),('classifier', XGBClassifier())])\n",
        "pipe_lr = Pipeline([('preprocessor', preprocessor),('classifier', LogisticRegression())])"
      ],
      "metadata": {
        "id": "2GFrK9PaWZ1T"
      },
      "execution_count": 20,
      "outputs": []
    },
    {
      "cell_type": "code",
      "source": [
        "# Menentukan skfold\n",
        "skfold = StratifiedKFold(n_splits = 5)"
      ],
      "metadata": {
        "id": "eWXsbQhwWexR"
      },
      "execution_count": 21,
      "outputs": []
    },
    {
      "cell_type": "code",
      "source": [
        "# Membuat cross-validation untuk setiap model dan gunakan scoring akurasi\n",
        "cv_svm_model = cross_val_score(pipe_svc, X_train, y_train, cv=skfold, scoring='recall', n_jobs=-1)\n",
        "cv_dt_model = cross_val_score(pipe_dt, X_train, y_train, cv=skfold, scoring='recall', n_jobs=-1)\n",
        "cv_rf_model = cross_val_score(pipe_rf, X_train, y_train, cv=skfold, scoring='recall', n_jobs=-1)\n",
        "cv_knn_model = cross_val_score(pipe_knn, X_train, y_train, cv=skfold, scoring='recall', n_jobs=-1)\n",
        "cv_nb_model = cross_val_score(pipe_nb, X_train, y_train, cv=skfold, scoring='recall', n_jobs=-1)\n",
        "cv_xgb_model = cross_val_score(pipe_xgb, X_train, y_train, cv=skfold, scoring='recall', n_jobs=-1)\n",
        "cv_lr_model = cross_val_score(pipe_lr, X_train, y_train, cv=skfold, scoring='recall', n_jobs=-1)"
      ],
      "metadata": {
        "id": "rN6M4fxqW8fp"
      },
      "execution_count": 22,
      "outputs": []
    },
    {
      "cell_type": "code",
      "source": [
        "# Mencari model dengan hasil scoring akurasi terbaik\n",
        "name_model = []\n",
        "cv_scores = 0\n",
        "for cv, name in zip([cv_svm_model, cv_dt_model, cv_rf_model, cv_knn_model, cv_nb_model, cv_xgb_model, cv_lr_model],\n",
        "                   ['svm_model', 'dt_model', 'rf_model', 'knn_model', 'nb_model', 'xgb_model', 'logistic_regression_model']):\n",
        "  print(name)\n",
        "  print('Recall - All - Cross Validation :', [round(x, 3) for x in cv])\n",
        "  print('Recall - Mean - Cross Validation :', round(cv.mean(), 3))\n",
        "  print('Recall - std - Cross Validation :', round(cv.std(), 3))\n",
        "  print('Recall - Range of Test Set :', round(cv.mean()-cv.std(), 3), '-', round(cv.mean()+cv.std(), 3))\n",
        "  print('-'*50)\n",
        "  if cv.mean() > cv_scores:\n",
        "    cv_scores = cv.mean()\n",
        "    name_model = name\n",
        "  else:\n",
        "    pass\n",
        "print('Best Model:', name_model)\n",
        "print('Cross Val Mean from Best Model:', round(cv_scores, 3))"
      ],
      "metadata": {
        "id": "2lNjoqqRXJW_",
        "colab": {
          "base_uri": "https://localhost:8080/"
        },
        "outputId": "456eec07-07b2-4da1-91c4-0aeb5aca9269"
      },
      "execution_count": 23,
      "outputs": [
        {
          "output_type": "stream",
          "name": "stdout",
          "text": [
            "svm_model\n",
            "Recall - All - Cross Validation : [0.914, 0.962, 0.912, 0.938, 0.912]\n",
            "Recall - Mean - Cross Validation : 0.928\n",
            "Recall - std - Cross Validation : 0.02\n",
            "Recall - Range of Test Set : 0.908 - 0.948\n",
            "--------------------------------------------------\n",
            "dt_model\n",
            "Recall - All - Cross Validation : [0.889, 0.938, 0.888, 0.938, 0.875]\n",
            "Recall - Mean - Cross Validation : 0.905\n",
            "Recall - std - Cross Validation : 0.027\n",
            "Recall - Range of Test Set : 0.879 - 0.932\n",
            "--------------------------------------------------\n",
            "rf_model\n",
            "Recall - All - Cross Validation : [0.901, 0.95, 0.9, 0.938, 0.9]\n",
            "Recall - Mean - Cross Validation : 0.918\n",
            "Recall - std - Cross Validation : 0.022\n",
            "Recall - Range of Test Set : 0.896 - 0.939\n",
            "--------------------------------------------------\n",
            "knn_model\n",
            "Recall - All - Cross Validation : [0.914, 0.95, 0.912, 0.938, 0.912]\n",
            "Recall - Mean - Cross Validation : 0.925\n",
            "Recall - std - Cross Validation : 0.016\n",
            "Recall - Range of Test Set : 0.91 - 0.941\n",
            "--------------------------------------------------\n",
            "nb_model\n",
            "Recall - All - Cross Validation : [0.914, 0.962, 0.9, 0.938, 0.912]\n",
            "Recall - Mean - Cross Validation : 0.925\n",
            "Recall - std - Cross Validation : 0.022\n",
            "Recall - Range of Test Set : 0.903 - 0.947\n",
            "--------------------------------------------------\n",
            "xgb_model\n",
            "Recall - All - Cross Validation : [0.901, 0.938, 0.9, 0.938, 0.912]\n",
            "Recall - Mean - Cross Validation : 0.918\n",
            "Recall - std - Cross Validation : 0.017\n",
            "Recall - Range of Test Set : 0.901 - 0.934\n",
            "--------------------------------------------------\n",
            "logistic_regression_model\n",
            "Recall - All - Cross Validation : [0.914, 0.962, 0.912, 0.938, 0.912]\n",
            "Recall - Mean - Cross Validation : 0.928\n",
            "Recall - std - Cross Validation : 0.02\n",
            "Recall - Range of Test Set : 0.908 - 0.948\n",
            "--------------------------------------------------\n",
            "Best Model: svm_model\n",
            "Cross Val Mean from Best Model: 0.928\n"
          ]
        }
      ]
    },
    {
      "cell_type": "markdown",
      "source": [
        "Based from cross validation, svm is the best model among other in cross validation. So model gonna use SVM classifier."
      ],
      "metadata": {
        "id": "i29k_bxBXXvh"
      }
    },
    {
      "cell_type": "markdown",
      "source": [
        "## 5.2. Model Definition"
      ],
      "metadata": {
        "id": "ED8dd5lsdwN2"
      }
    },
    {
      "cell_type": "markdown",
      "source": [
        "## Support Vector Classifier (SVC)\n",
        "\n",
        "**SVC** is a supervised machine learning algorithm used for classification tasks. It works by finding a hyperplane in a high-dimensional space that separates data points of different classes. The goal is to find the hyperplane that maximizes the margin between the two classes.\n",
        "\n",
        "### Key Concepts:\n",
        "* **Hyperplane:** A decision boundary that separates data points into different classes.\n",
        "* **Margin:** The distance between the hyperplane and the nearest data points of either class.\n",
        "* **Support Vectors:** The data points that lie closest to the hyperplane and define the margin.\n",
        "\n",
        "### How SVC Works:\n",
        "1. **Feature Engineering:** The data is prepared with appropriate features that can help in classification.\n",
        "2. **Kernel Trick:** In cases where the data is not linearly separable in the original space, the kernel trick is used to map the data into a higher-dimensional space where it might become linearly separable.\n",
        "3. **Hyperplane Optimization:** The algorithm finds the optimal hyperplane that maximizes the margin between the classes.\n",
        "4. **Classification:** New data points are classified based on their position relative to the hyperplane.\n",
        "\n",
        "### Advantages of SVC:\n",
        "* **Effective with small datasets:** SVC can perform well even with limited data.\n",
        "* **Handles non-linearity:** The kernel trick allows SVC to handle non-linearly separable data.\n",
        "* **High generalization performance:** SVC often achieves good performance on unseen data.\n",
        "\n",
        "### Disadvantages of SVC:\n",
        "* **Computational complexity:** Training SVC can be computationally expensive for large datasets.\n",
        "* **Sensitivity to outliers:** Outliers can significantly affect the hyperplane and classification results.\n",
        "* **Choice of kernel:** Selecting the appropriate kernel function can be challenging.\n",
        "\n",
        "### Common Kernel Functions:\n",
        "* **Linear kernel:** Suitable for linearly separable data.\n",
        "* **Polynomial kernel:** Can capture non-linear relationships between features.\n",
        "* **Radial Basis Function (RBF) kernel:** A popular choice for non-linear relationships, but requires careful tuning of the gamma parameter.\n",
        "\n",
        "### Applications of SVC:\n",
        "* **Image classification:** Recognizing objects or scenes in images.\n",
        "* **Text classification:** Categorizing text documents into different categories.\n",
        "* **Bioinformatics:** Predicting protein structures or functions.\n",
        "* **Financial forecasting:** Predicting stock prices or market trends.\n",
        "\n",
        "**In conclusion,** SVC is a powerful classification algorithm that can effectively handle both linear and non-linear data. By understanding its key concepts and advantages, you can leverage SVC for various classification tasks in different domains.\n"
      ],
      "metadata": {
        "id": "Ug1anOkMd1AZ"
      }
    },
    {
      "cell_type": "markdown",
      "source": [
        "## 5.3. Model Training"
      ],
      "metadata": {
        "id": "bM_jlKqGeTkD"
      }
    },
    {
      "cell_type": "code",
      "source": [
        "model = SVC()"
      ],
      "metadata": {
        "id": "2vBtsrk6ghPM"
      },
      "execution_count": 24,
      "outputs": []
    },
    {
      "cell_type": "code",
      "source": [
        "clf = Pipeline([('preprocessor', preprocessor), ('classifier', model)])\n",
        "clf.fit(X_train, y_train)"
      ],
      "metadata": {
        "id": "p0m8iFJ9gnCo",
        "colab": {
          "base_uri": "https://localhost:8080/",
          "height": 260
        },
        "outputId": "cc2af2fb-eb56-4242-8a48-5fdc65bf4848"
      },
      "execution_count": 25,
      "outputs": [
        {
          "output_type": "execute_result",
          "data": {
            "text/plain": [
              "Pipeline(steps=[('preprocessor',\n",
              "                 ColumnTransformer(transformers=[('cat_nominal',\n",
              "                                                  Pipeline(steps=[('imputer',\n",
              "                                                                   SimpleImputer(strategy='most_frequent')),\n",
              "                                                                  ('onehot',\n",
              "                                                                   OneHotEncoder(handle_unknown='ignore'))]),\n",
              "                                                  ['contract', 'sentiment',\n",
              "                                                   'topic']),\n",
              "                                                 ('num_skew',\n",
              "                                                  Pipeline(steps=[('winsorizer',\n",
              "                                                                   Winsorizer(capping_method='iqr',\n",
              "                                                                              fold=3,\n",
              "                                                                              tail='both',\n",
              "                                                                              variables=['monthly_charges'])),\n",
              "                                                                  ('robust',\n",
              "                                                                   RobustScaler())]),\n",
              "                                                  ['monthly_charges']),\n",
              "                                                 ('num_normal',\n",
              "                                                  Pipeline(steps=[('winsorizer',\n",
              "                                                                   Winsorizer(fold=3,\n",
              "                                                                              tail='both',\n",
              "                                                                              variables=['tenure',\n",
              "                                                                                         'total_charges'])),\n",
              "                                                                  ('scaler',\n",
              "                                                                   StandardScaler())]),\n",
              "                                                  ['tenure',\n",
              "                                                   'total_charges'])])),\n",
              "                ('classifier', SVC())])"
            ],
            "text/html": [
              "<style>#sk-container-id-1 {\n",
              "  /* Definition of color scheme common for light and dark mode */\n",
              "  --sklearn-color-text: black;\n",
              "  --sklearn-color-line: gray;\n",
              "  /* Definition of color scheme for unfitted estimators */\n",
              "  --sklearn-color-unfitted-level-0: #fff5e6;\n",
              "  --sklearn-color-unfitted-level-1: #f6e4d2;\n",
              "  --sklearn-color-unfitted-level-2: #ffe0b3;\n",
              "  --sklearn-color-unfitted-level-3: chocolate;\n",
              "  /* Definition of color scheme for fitted estimators */\n",
              "  --sklearn-color-fitted-level-0: #f0f8ff;\n",
              "  --sklearn-color-fitted-level-1: #d4ebff;\n",
              "  --sklearn-color-fitted-level-2: #b3dbfd;\n",
              "  --sklearn-color-fitted-level-3: cornflowerblue;\n",
              "\n",
              "  /* Specific color for light theme */\n",
              "  --sklearn-color-text-on-default-background: var(--sg-text-color, var(--theme-code-foreground, var(--jp-content-font-color1, black)));\n",
              "  --sklearn-color-background: var(--sg-background-color, var(--theme-background, var(--jp-layout-color0, white)));\n",
              "  --sklearn-color-border-box: var(--sg-text-color, var(--theme-code-foreground, var(--jp-content-font-color1, black)));\n",
              "  --sklearn-color-icon: #696969;\n",
              "\n",
              "  @media (prefers-color-scheme: dark) {\n",
              "    /* Redefinition of color scheme for dark theme */\n",
              "    --sklearn-color-text-on-default-background: var(--sg-text-color, var(--theme-code-foreground, var(--jp-content-font-color1, white)));\n",
              "    --sklearn-color-background: var(--sg-background-color, var(--theme-background, var(--jp-layout-color0, #111)));\n",
              "    --sklearn-color-border-box: var(--sg-text-color, var(--theme-code-foreground, var(--jp-content-font-color1, white)));\n",
              "    --sklearn-color-icon: #878787;\n",
              "  }\n",
              "}\n",
              "\n",
              "#sk-container-id-1 {\n",
              "  color: var(--sklearn-color-text);\n",
              "}\n",
              "\n",
              "#sk-container-id-1 pre {\n",
              "  padding: 0;\n",
              "}\n",
              "\n",
              "#sk-container-id-1 input.sk-hidden--visually {\n",
              "  border: 0;\n",
              "  clip: rect(1px 1px 1px 1px);\n",
              "  clip: rect(1px, 1px, 1px, 1px);\n",
              "  height: 1px;\n",
              "  margin: -1px;\n",
              "  overflow: hidden;\n",
              "  padding: 0;\n",
              "  position: absolute;\n",
              "  width: 1px;\n",
              "}\n",
              "\n",
              "#sk-container-id-1 div.sk-dashed-wrapped {\n",
              "  border: 1px dashed var(--sklearn-color-line);\n",
              "  margin: 0 0.4em 0.5em 0.4em;\n",
              "  box-sizing: border-box;\n",
              "  padding-bottom: 0.4em;\n",
              "  background-color: var(--sklearn-color-background);\n",
              "}\n",
              "\n",
              "#sk-container-id-1 div.sk-container {\n",
              "  /* jupyter's `normalize.less` sets `[hidden] { display: none; }`\n",
              "     but bootstrap.min.css set `[hidden] { display: none !important; }`\n",
              "     so we also need the `!important` here to be able to override the\n",
              "     default hidden behavior on the sphinx rendered scikit-learn.org.\n",
              "     See: https://github.com/scikit-learn/scikit-learn/issues/21755 */\n",
              "  display: inline-block !important;\n",
              "  position: relative;\n",
              "}\n",
              "\n",
              "#sk-container-id-1 div.sk-text-repr-fallback {\n",
              "  display: none;\n",
              "}\n",
              "\n",
              "div.sk-parallel-item,\n",
              "div.sk-serial,\n",
              "div.sk-item {\n",
              "  /* draw centered vertical line to link estimators */\n",
              "  background-image: linear-gradient(var(--sklearn-color-text-on-default-background), var(--sklearn-color-text-on-default-background));\n",
              "  background-size: 2px 100%;\n",
              "  background-repeat: no-repeat;\n",
              "  background-position: center center;\n",
              "}\n",
              "\n",
              "/* Parallel-specific style estimator block */\n",
              "\n",
              "#sk-container-id-1 div.sk-parallel-item::after {\n",
              "  content: \"\";\n",
              "  width: 100%;\n",
              "  border-bottom: 2px solid var(--sklearn-color-text-on-default-background);\n",
              "  flex-grow: 1;\n",
              "}\n",
              "\n",
              "#sk-container-id-1 div.sk-parallel {\n",
              "  display: flex;\n",
              "  align-items: stretch;\n",
              "  justify-content: center;\n",
              "  background-color: var(--sklearn-color-background);\n",
              "  position: relative;\n",
              "}\n",
              "\n",
              "#sk-container-id-1 div.sk-parallel-item {\n",
              "  display: flex;\n",
              "  flex-direction: column;\n",
              "}\n",
              "\n",
              "#sk-container-id-1 div.sk-parallel-item:first-child::after {\n",
              "  align-self: flex-end;\n",
              "  width: 50%;\n",
              "}\n",
              "\n",
              "#sk-container-id-1 div.sk-parallel-item:last-child::after {\n",
              "  align-self: flex-start;\n",
              "  width: 50%;\n",
              "}\n",
              "\n",
              "#sk-container-id-1 div.sk-parallel-item:only-child::after {\n",
              "  width: 0;\n",
              "}\n",
              "\n",
              "/* Serial-specific style estimator block */\n",
              "\n",
              "#sk-container-id-1 div.sk-serial {\n",
              "  display: flex;\n",
              "  flex-direction: column;\n",
              "  align-items: center;\n",
              "  background-color: var(--sklearn-color-background);\n",
              "  padding-right: 1em;\n",
              "  padding-left: 1em;\n",
              "}\n",
              "\n",
              "\n",
              "/* Toggleable style: style used for estimator/Pipeline/ColumnTransformer box that is\n",
              "clickable and can be expanded/collapsed.\n",
              "- Pipeline and ColumnTransformer use this feature and define the default style\n",
              "- Estimators will overwrite some part of the style using the `sk-estimator` class\n",
              "*/\n",
              "\n",
              "/* Pipeline and ColumnTransformer style (default) */\n",
              "\n",
              "#sk-container-id-1 div.sk-toggleable {\n",
              "  /* Default theme specific background. It is overwritten whether we have a\n",
              "  specific estimator or a Pipeline/ColumnTransformer */\n",
              "  background-color: var(--sklearn-color-background);\n",
              "}\n",
              "\n",
              "/* Toggleable label */\n",
              "#sk-container-id-1 label.sk-toggleable__label {\n",
              "  cursor: pointer;\n",
              "  display: block;\n",
              "  width: 100%;\n",
              "  margin-bottom: 0;\n",
              "  padding: 0.5em;\n",
              "  box-sizing: border-box;\n",
              "  text-align: center;\n",
              "}\n",
              "\n",
              "#sk-container-id-1 label.sk-toggleable__label-arrow:before {\n",
              "  /* Arrow on the left of the label */\n",
              "  content: \"▸\";\n",
              "  float: left;\n",
              "  margin-right: 0.25em;\n",
              "  color: var(--sklearn-color-icon);\n",
              "}\n",
              "\n",
              "#sk-container-id-1 label.sk-toggleable__label-arrow:hover:before {\n",
              "  color: var(--sklearn-color-text);\n",
              "}\n",
              "\n",
              "/* Toggleable content - dropdown */\n",
              "\n",
              "#sk-container-id-1 div.sk-toggleable__content {\n",
              "  max-height: 0;\n",
              "  max-width: 0;\n",
              "  overflow: hidden;\n",
              "  text-align: left;\n",
              "  /* unfitted */\n",
              "  background-color: var(--sklearn-color-unfitted-level-0);\n",
              "}\n",
              "\n",
              "#sk-container-id-1 div.sk-toggleable__content.fitted {\n",
              "  /* fitted */\n",
              "  background-color: var(--sklearn-color-fitted-level-0);\n",
              "}\n",
              "\n",
              "#sk-container-id-1 div.sk-toggleable__content pre {\n",
              "  margin: 0.2em;\n",
              "  border-radius: 0.25em;\n",
              "  color: var(--sklearn-color-text);\n",
              "  /* unfitted */\n",
              "  background-color: var(--sklearn-color-unfitted-level-0);\n",
              "}\n",
              "\n",
              "#sk-container-id-1 div.sk-toggleable__content.fitted pre {\n",
              "  /* unfitted */\n",
              "  background-color: var(--sklearn-color-fitted-level-0);\n",
              "}\n",
              "\n",
              "#sk-container-id-1 input.sk-toggleable__control:checked~div.sk-toggleable__content {\n",
              "  /* Expand drop-down */\n",
              "  max-height: 200px;\n",
              "  max-width: 100%;\n",
              "  overflow: auto;\n",
              "}\n",
              "\n",
              "#sk-container-id-1 input.sk-toggleable__control:checked~label.sk-toggleable__label-arrow:before {\n",
              "  content: \"▾\";\n",
              "}\n",
              "\n",
              "/* Pipeline/ColumnTransformer-specific style */\n",
              "\n",
              "#sk-container-id-1 div.sk-label input.sk-toggleable__control:checked~label.sk-toggleable__label {\n",
              "  color: var(--sklearn-color-text);\n",
              "  background-color: var(--sklearn-color-unfitted-level-2);\n",
              "}\n",
              "\n",
              "#sk-container-id-1 div.sk-label.fitted input.sk-toggleable__control:checked~label.sk-toggleable__label {\n",
              "  background-color: var(--sklearn-color-fitted-level-2);\n",
              "}\n",
              "\n",
              "/* Estimator-specific style */\n",
              "\n",
              "/* Colorize estimator box */\n",
              "#sk-container-id-1 div.sk-estimator input.sk-toggleable__control:checked~label.sk-toggleable__label {\n",
              "  /* unfitted */\n",
              "  background-color: var(--sklearn-color-unfitted-level-2);\n",
              "}\n",
              "\n",
              "#sk-container-id-1 div.sk-estimator.fitted input.sk-toggleable__control:checked~label.sk-toggleable__label {\n",
              "  /* fitted */\n",
              "  background-color: var(--sklearn-color-fitted-level-2);\n",
              "}\n",
              "\n",
              "#sk-container-id-1 div.sk-label label.sk-toggleable__label,\n",
              "#sk-container-id-1 div.sk-label label {\n",
              "  /* The background is the default theme color */\n",
              "  color: var(--sklearn-color-text-on-default-background);\n",
              "}\n",
              "\n",
              "/* On hover, darken the color of the background */\n",
              "#sk-container-id-1 div.sk-label:hover label.sk-toggleable__label {\n",
              "  color: var(--sklearn-color-text);\n",
              "  background-color: var(--sklearn-color-unfitted-level-2);\n",
              "}\n",
              "\n",
              "/* Label box, darken color on hover, fitted */\n",
              "#sk-container-id-1 div.sk-label.fitted:hover label.sk-toggleable__label.fitted {\n",
              "  color: var(--sklearn-color-text);\n",
              "  background-color: var(--sklearn-color-fitted-level-2);\n",
              "}\n",
              "\n",
              "/* Estimator label */\n",
              "\n",
              "#sk-container-id-1 div.sk-label label {\n",
              "  font-family: monospace;\n",
              "  font-weight: bold;\n",
              "  display: inline-block;\n",
              "  line-height: 1.2em;\n",
              "}\n",
              "\n",
              "#sk-container-id-1 div.sk-label-container {\n",
              "  text-align: center;\n",
              "}\n",
              "\n",
              "/* Estimator-specific */\n",
              "#sk-container-id-1 div.sk-estimator {\n",
              "  font-family: monospace;\n",
              "  border: 1px dotted var(--sklearn-color-border-box);\n",
              "  border-radius: 0.25em;\n",
              "  box-sizing: border-box;\n",
              "  margin-bottom: 0.5em;\n",
              "  /* unfitted */\n",
              "  background-color: var(--sklearn-color-unfitted-level-0);\n",
              "}\n",
              "\n",
              "#sk-container-id-1 div.sk-estimator.fitted {\n",
              "  /* fitted */\n",
              "  background-color: var(--sklearn-color-fitted-level-0);\n",
              "}\n",
              "\n",
              "/* on hover */\n",
              "#sk-container-id-1 div.sk-estimator:hover {\n",
              "  /* unfitted */\n",
              "  background-color: var(--sklearn-color-unfitted-level-2);\n",
              "}\n",
              "\n",
              "#sk-container-id-1 div.sk-estimator.fitted:hover {\n",
              "  /* fitted */\n",
              "  background-color: var(--sklearn-color-fitted-level-2);\n",
              "}\n",
              "\n",
              "/* Specification for estimator info (e.g. \"i\" and \"?\") */\n",
              "\n",
              "/* Common style for \"i\" and \"?\" */\n",
              "\n",
              ".sk-estimator-doc-link,\n",
              "a:link.sk-estimator-doc-link,\n",
              "a:visited.sk-estimator-doc-link {\n",
              "  float: right;\n",
              "  font-size: smaller;\n",
              "  line-height: 1em;\n",
              "  font-family: monospace;\n",
              "  background-color: var(--sklearn-color-background);\n",
              "  border-radius: 1em;\n",
              "  height: 1em;\n",
              "  width: 1em;\n",
              "  text-decoration: none !important;\n",
              "  margin-left: 1ex;\n",
              "  /* unfitted */\n",
              "  border: var(--sklearn-color-unfitted-level-1) 1pt solid;\n",
              "  color: var(--sklearn-color-unfitted-level-1);\n",
              "}\n",
              "\n",
              ".sk-estimator-doc-link.fitted,\n",
              "a:link.sk-estimator-doc-link.fitted,\n",
              "a:visited.sk-estimator-doc-link.fitted {\n",
              "  /* fitted */\n",
              "  border: var(--sklearn-color-fitted-level-1) 1pt solid;\n",
              "  color: var(--sklearn-color-fitted-level-1);\n",
              "}\n",
              "\n",
              "/* On hover */\n",
              "div.sk-estimator:hover .sk-estimator-doc-link:hover,\n",
              ".sk-estimator-doc-link:hover,\n",
              "div.sk-label-container:hover .sk-estimator-doc-link:hover,\n",
              ".sk-estimator-doc-link:hover {\n",
              "  /* unfitted */\n",
              "  background-color: var(--sklearn-color-unfitted-level-3);\n",
              "  color: var(--sklearn-color-background);\n",
              "  text-decoration: none;\n",
              "}\n",
              "\n",
              "div.sk-estimator.fitted:hover .sk-estimator-doc-link.fitted:hover,\n",
              ".sk-estimator-doc-link.fitted:hover,\n",
              "div.sk-label-container:hover .sk-estimator-doc-link.fitted:hover,\n",
              ".sk-estimator-doc-link.fitted:hover {\n",
              "  /* fitted */\n",
              "  background-color: var(--sklearn-color-fitted-level-3);\n",
              "  color: var(--sklearn-color-background);\n",
              "  text-decoration: none;\n",
              "}\n",
              "\n",
              "/* Span, style for the box shown on hovering the info icon */\n",
              ".sk-estimator-doc-link span {\n",
              "  display: none;\n",
              "  z-index: 9999;\n",
              "  position: relative;\n",
              "  font-weight: normal;\n",
              "  right: .2ex;\n",
              "  padding: .5ex;\n",
              "  margin: .5ex;\n",
              "  width: min-content;\n",
              "  min-width: 20ex;\n",
              "  max-width: 50ex;\n",
              "  color: var(--sklearn-color-text);\n",
              "  box-shadow: 2pt 2pt 4pt #999;\n",
              "  /* unfitted */\n",
              "  background: var(--sklearn-color-unfitted-level-0);\n",
              "  border: .5pt solid var(--sklearn-color-unfitted-level-3);\n",
              "}\n",
              "\n",
              ".sk-estimator-doc-link.fitted span {\n",
              "  /* fitted */\n",
              "  background: var(--sklearn-color-fitted-level-0);\n",
              "  border: var(--sklearn-color-fitted-level-3);\n",
              "}\n",
              "\n",
              ".sk-estimator-doc-link:hover span {\n",
              "  display: block;\n",
              "}\n",
              "\n",
              "/* \"?\"-specific style due to the `<a>` HTML tag */\n",
              "\n",
              "#sk-container-id-1 a.estimator_doc_link {\n",
              "  float: right;\n",
              "  font-size: 1rem;\n",
              "  line-height: 1em;\n",
              "  font-family: monospace;\n",
              "  background-color: var(--sklearn-color-background);\n",
              "  border-radius: 1rem;\n",
              "  height: 1rem;\n",
              "  width: 1rem;\n",
              "  text-decoration: none;\n",
              "  /* unfitted */\n",
              "  color: var(--sklearn-color-unfitted-level-1);\n",
              "  border: var(--sklearn-color-unfitted-level-1) 1pt solid;\n",
              "}\n",
              "\n",
              "#sk-container-id-1 a.estimator_doc_link.fitted {\n",
              "  /* fitted */\n",
              "  border: var(--sklearn-color-fitted-level-1) 1pt solid;\n",
              "  color: var(--sklearn-color-fitted-level-1);\n",
              "}\n",
              "\n",
              "/* On hover */\n",
              "#sk-container-id-1 a.estimator_doc_link:hover {\n",
              "  /* unfitted */\n",
              "  background-color: var(--sklearn-color-unfitted-level-3);\n",
              "  color: var(--sklearn-color-background);\n",
              "  text-decoration: none;\n",
              "}\n",
              "\n",
              "#sk-container-id-1 a.estimator_doc_link.fitted:hover {\n",
              "  /* fitted */\n",
              "  background-color: var(--sklearn-color-fitted-level-3);\n",
              "}\n",
              "</style><div id=\"sk-container-id-1\" class=\"sk-top-container\"><div class=\"sk-text-repr-fallback\"><pre>Pipeline(steps=[(&#x27;preprocessor&#x27;,\n",
              "                 ColumnTransformer(transformers=[(&#x27;cat_nominal&#x27;,\n",
              "                                                  Pipeline(steps=[(&#x27;imputer&#x27;,\n",
              "                                                                   SimpleImputer(strategy=&#x27;most_frequent&#x27;)),\n",
              "                                                                  (&#x27;onehot&#x27;,\n",
              "                                                                   OneHotEncoder(handle_unknown=&#x27;ignore&#x27;))]),\n",
              "                                                  [&#x27;contract&#x27;, &#x27;sentiment&#x27;,\n",
              "                                                   &#x27;topic&#x27;]),\n",
              "                                                 (&#x27;num_skew&#x27;,\n",
              "                                                  Pipeline(steps=[(&#x27;winsorizer&#x27;,\n",
              "                                                                   Winsorizer(capping_method=&#x27;iqr&#x27;,\n",
              "                                                                              fold=3,\n",
              "                                                                              tail=&#x27;both&#x27;,\n",
              "                                                                              variables=[&#x27;monthly_charges&#x27;])),\n",
              "                                                                  (&#x27;robust&#x27;,\n",
              "                                                                   RobustScaler())]),\n",
              "                                                  [&#x27;monthly_charges&#x27;]),\n",
              "                                                 (&#x27;num_normal&#x27;,\n",
              "                                                  Pipeline(steps=[(&#x27;winsorizer&#x27;,\n",
              "                                                                   Winsorizer(fold=3,\n",
              "                                                                              tail=&#x27;both&#x27;,\n",
              "                                                                              variables=[&#x27;tenure&#x27;,\n",
              "                                                                                         &#x27;total_charges&#x27;])),\n",
              "                                                                  (&#x27;scaler&#x27;,\n",
              "                                                                   StandardScaler())]),\n",
              "                                                  [&#x27;tenure&#x27;,\n",
              "                                                   &#x27;total_charges&#x27;])])),\n",
              "                (&#x27;classifier&#x27;, SVC())])</pre><b>In a Jupyter environment, please rerun this cell to show the HTML representation or trust the notebook. <br />On GitHub, the HTML representation is unable to render, please try loading this page with nbviewer.org.</b></div><div class=\"sk-container\" hidden><div class=\"sk-item sk-dashed-wrapped\"><div class=\"sk-label-container\"><div class=\"sk-label fitted sk-toggleable\"><input class=\"sk-toggleable__control sk-hidden--visually\" id=\"sk-estimator-id-1\" type=\"checkbox\" ><label for=\"sk-estimator-id-1\" class=\"sk-toggleable__label fitted sk-toggleable__label-arrow fitted\">&nbsp;&nbsp;Pipeline<a class=\"sk-estimator-doc-link fitted\" rel=\"noreferrer\" target=\"_blank\" href=\"https://scikit-learn.org/1.5/modules/generated/sklearn.pipeline.Pipeline.html\">?<span>Documentation for Pipeline</span></a><span class=\"sk-estimator-doc-link fitted\">i<span>Fitted</span></span></label><div class=\"sk-toggleable__content fitted\"><pre>Pipeline(steps=[(&#x27;preprocessor&#x27;,\n",
              "                 ColumnTransformer(transformers=[(&#x27;cat_nominal&#x27;,\n",
              "                                                  Pipeline(steps=[(&#x27;imputer&#x27;,\n",
              "                                                                   SimpleImputer(strategy=&#x27;most_frequent&#x27;)),\n",
              "                                                                  (&#x27;onehot&#x27;,\n",
              "                                                                   OneHotEncoder(handle_unknown=&#x27;ignore&#x27;))]),\n",
              "                                                  [&#x27;contract&#x27;, &#x27;sentiment&#x27;,\n",
              "                                                   &#x27;topic&#x27;]),\n",
              "                                                 (&#x27;num_skew&#x27;,\n",
              "                                                  Pipeline(steps=[(&#x27;winsorizer&#x27;,\n",
              "                                                                   Winsorizer(capping_method=&#x27;iqr&#x27;,\n",
              "                                                                              fold=3,\n",
              "                                                                              tail=&#x27;both&#x27;,\n",
              "                                                                              variables=[&#x27;monthly_charges&#x27;])),\n",
              "                                                                  (&#x27;robust&#x27;,\n",
              "                                                                   RobustScaler())]),\n",
              "                                                  [&#x27;monthly_charges&#x27;]),\n",
              "                                                 (&#x27;num_normal&#x27;,\n",
              "                                                  Pipeline(steps=[(&#x27;winsorizer&#x27;,\n",
              "                                                                   Winsorizer(fold=3,\n",
              "                                                                              tail=&#x27;both&#x27;,\n",
              "                                                                              variables=[&#x27;tenure&#x27;,\n",
              "                                                                                         &#x27;total_charges&#x27;])),\n",
              "                                                                  (&#x27;scaler&#x27;,\n",
              "                                                                   StandardScaler())]),\n",
              "                                                  [&#x27;tenure&#x27;,\n",
              "                                                   &#x27;total_charges&#x27;])])),\n",
              "                (&#x27;classifier&#x27;, SVC())])</pre></div> </div></div><div class=\"sk-serial\"><div class=\"sk-item sk-dashed-wrapped\"><div class=\"sk-label-container\"><div class=\"sk-label fitted sk-toggleable\"><input class=\"sk-toggleable__control sk-hidden--visually\" id=\"sk-estimator-id-2\" type=\"checkbox\" ><label for=\"sk-estimator-id-2\" class=\"sk-toggleable__label fitted sk-toggleable__label-arrow fitted\">&nbsp;preprocessor: ColumnTransformer<a class=\"sk-estimator-doc-link fitted\" rel=\"noreferrer\" target=\"_blank\" href=\"https://scikit-learn.org/1.5/modules/generated/sklearn.compose.ColumnTransformer.html\">?<span>Documentation for preprocessor: ColumnTransformer</span></a></label><div class=\"sk-toggleable__content fitted\"><pre>ColumnTransformer(transformers=[(&#x27;cat_nominal&#x27;,\n",
              "                                 Pipeline(steps=[(&#x27;imputer&#x27;,\n",
              "                                                  SimpleImputer(strategy=&#x27;most_frequent&#x27;)),\n",
              "                                                 (&#x27;onehot&#x27;,\n",
              "                                                  OneHotEncoder(handle_unknown=&#x27;ignore&#x27;))]),\n",
              "                                 [&#x27;contract&#x27;, &#x27;sentiment&#x27;, &#x27;topic&#x27;]),\n",
              "                                (&#x27;num_skew&#x27;,\n",
              "                                 Pipeline(steps=[(&#x27;winsorizer&#x27;,\n",
              "                                                  Winsorizer(capping_method=&#x27;iqr&#x27;,\n",
              "                                                             fold=3,\n",
              "                                                             tail=&#x27;both&#x27;,\n",
              "                                                             variables=[&#x27;monthly_charges&#x27;])),\n",
              "                                                 (&#x27;robust&#x27;, RobustScaler())]),\n",
              "                                 [&#x27;monthly_charges&#x27;]),\n",
              "                                (&#x27;num_normal&#x27;,\n",
              "                                 Pipeline(steps=[(&#x27;winsorizer&#x27;,\n",
              "                                                  Winsorizer(fold=3,\n",
              "                                                             tail=&#x27;both&#x27;,\n",
              "                                                             variables=[&#x27;tenure&#x27;,\n",
              "                                                                        &#x27;total_charges&#x27;])),\n",
              "                                                 (&#x27;scaler&#x27;, StandardScaler())]),\n",
              "                                 [&#x27;tenure&#x27;, &#x27;total_charges&#x27;])])</pre></div> </div></div><div class=\"sk-parallel\"><div class=\"sk-parallel-item\"><div class=\"sk-item\"><div class=\"sk-label-container\"><div class=\"sk-label fitted sk-toggleable\"><input class=\"sk-toggleable__control sk-hidden--visually\" id=\"sk-estimator-id-3\" type=\"checkbox\" ><label for=\"sk-estimator-id-3\" class=\"sk-toggleable__label fitted sk-toggleable__label-arrow fitted\">cat_nominal</label><div class=\"sk-toggleable__content fitted\"><pre>[&#x27;contract&#x27;, &#x27;sentiment&#x27;, &#x27;topic&#x27;]</pre></div> </div></div><div class=\"sk-serial\"><div class=\"sk-item\"><div class=\"sk-serial\"><div class=\"sk-item\"><div class=\"sk-estimator fitted sk-toggleable\"><input class=\"sk-toggleable__control sk-hidden--visually\" id=\"sk-estimator-id-4\" type=\"checkbox\" ><label for=\"sk-estimator-id-4\" class=\"sk-toggleable__label fitted sk-toggleable__label-arrow fitted\">&nbsp;SimpleImputer<a class=\"sk-estimator-doc-link fitted\" rel=\"noreferrer\" target=\"_blank\" href=\"https://scikit-learn.org/1.5/modules/generated/sklearn.impute.SimpleImputer.html\">?<span>Documentation for SimpleImputer</span></a></label><div class=\"sk-toggleable__content fitted\"><pre>SimpleImputer(strategy=&#x27;most_frequent&#x27;)</pre></div> </div></div><div class=\"sk-item\"><div class=\"sk-estimator fitted sk-toggleable\"><input class=\"sk-toggleable__control sk-hidden--visually\" id=\"sk-estimator-id-5\" type=\"checkbox\" ><label for=\"sk-estimator-id-5\" class=\"sk-toggleable__label fitted sk-toggleable__label-arrow fitted\">&nbsp;OneHotEncoder<a class=\"sk-estimator-doc-link fitted\" rel=\"noreferrer\" target=\"_blank\" href=\"https://scikit-learn.org/1.5/modules/generated/sklearn.preprocessing.OneHotEncoder.html\">?<span>Documentation for OneHotEncoder</span></a></label><div class=\"sk-toggleable__content fitted\"><pre>OneHotEncoder(handle_unknown=&#x27;ignore&#x27;)</pre></div> </div></div></div></div></div></div></div><div class=\"sk-parallel-item\"><div class=\"sk-item\"><div class=\"sk-label-container\"><div class=\"sk-label fitted sk-toggleable\"><input class=\"sk-toggleable__control sk-hidden--visually\" id=\"sk-estimator-id-6\" type=\"checkbox\" ><label for=\"sk-estimator-id-6\" class=\"sk-toggleable__label fitted sk-toggleable__label-arrow fitted\">num_skew</label><div class=\"sk-toggleable__content fitted\"><pre>[&#x27;monthly_charges&#x27;]</pre></div> </div></div><div class=\"sk-serial\"><div class=\"sk-item\"><div class=\"sk-serial\"><div class=\"sk-item\"><div class=\"sk-estimator fitted sk-toggleable\"><input class=\"sk-toggleable__control sk-hidden--visually\" id=\"sk-estimator-id-7\" type=\"checkbox\" ><label for=\"sk-estimator-id-7\" class=\"sk-toggleable__label fitted sk-toggleable__label-arrow fitted\">Winsorizer</label><div class=\"sk-toggleable__content fitted\"><pre>Winsorizer(capping_method=&#x27;iqr&#x27;, fold=3, tail=&#x27;both&#x27;,\n",
              "           variables=[&#x27;monthly_charges&#x27;])</pre></div> </div></div><div class=\"sk-item\"><div class=\"sk-estimator fitted sk-toggleable\"><input class=\"sk-toggleable__control sk-hidden--visually\" id=\"sk-estimator-id-8\" type=\"checkbox\" ><label for=\"sk-estimator-id-8\" class=\"sk-toggleable__label fitted sk-toggleable__label-arrow fitted\">&nbsp;RobustScaler<a class=\"sk-estimator-doc-link fitted\" rel=\"noreferrer\" target=\"_blank\" href=\"https://scikit-learn.org/1.5/modules/generated/sklearn.preprocessing.RobustScaler.html\">?<span>Documentation for RobustScaler</span></a></label><div class=\"sk-toggleable__content fitted\"><pre>RobustScaler()</pre></div> </div></div></div></div></div></div></div><div class=\"sk-parallel-item\"><div class=\"sk-item\"><div class=\"sk-label-container\"><div class=\"sk-label fitted sk-toggleable\"><input class=\"sk-toggleable__control sk-hidden--visually\" id=\"sk-estimator-id-9\" type=\"checkbox\" ><label for=\"sk-estimator-id-9\" class=\"sk-toggleable__label fitted sk-toggleable__label-arrow fitted\">num_normal</label><div class=\"sk-toggleable__content fitted\"><pre>[&#x27;tenure&#x27;, &#x27;total_charges&#x27;]</pre></div> </div></div><div class=\"sk-serial\"><div class=\"sk-item\"><div class=\"sk-serial\"><div class=\"sk-item\"><div class=\"sk-estimator fitted sk-toggleable\"><input class=\"sk-toggleable__control sk-hidden--visually\" id=\"sk-estimator-id-10\" type=\"checkbox\" ><label for=\"sk-estimator-id-10\" class=\"sk-toggleable__label fitted sk-toggleable__label-arrow fitted\">Winsorizer</label><div class=\"sk-toggleable__content fitted\"><pre>Winsorizer(fold=3, tail=&#x27;both&#x27;, variables=[&#x27;tenure&#x27;, &#x27;total_charges&#x27;])</pre></div> </div></div><div class=\"sk-item\"><div class=\"sk-estimator fitted sk-toggleable\"><input class=\"sk-toggleable__control sk-hidden--visually\" id=\"sk-estimator-id-11\" type=\"checkbox\" ><label for=\"sk-estimator-id-11\" class=\"sk-toggleable__label fitted sk-toggleable__label-arrow fitted\">&nbsp;StandardScaler<a class=\"sk-estimator-doc-link fitted\" rel=\"noreferrer\" target=\"_blank\" href=\"https://scikit-learn.org/1.5/modules/generated/sklearn.preprocessing.StandardScaler.html\">?<span>Documentation for StandardScaler</span></a></label><div class=\"sk-toggleable__content fitted\"><pre>StandardScaler()</pre></div> </div></div></div></div></div></div></div></div></div><div class=\"sk-item\"><div class=\"sk-estimator fitted sk-toggleable\"><input class=\"sk-toggleable__control sk-hidden--visually\" id=\"sk-estimator-id-12\" type=\"checkbox\" ><label for=\"sk-estimator-id-12\" class=\"sk-toggleable__label fitted sk-toggleable__label-arrow fitted\">&nbsp;SVC<a class=\"sk-estimator-doc-link fitted\" rel=\"noreferrer\" target=\"_blank\" href=\"https://scikit-learn.org/1.5/modules/generated/sklearn.svm.SVC.html\">?<span>Documentation for SVC</span></a></label><div class=\"sk-toggleable__content fitted\"><pre>SVC()</pre></div> </div></div></div></div></div></div>"
            ]
          },
          "metadata": {},
          "execution_count": 25
        }
      ]
    },
    {
      "cell_type": "markdown",
      "source": [
        "## 5.4. Model Evaluation"
      ],
      "metadata": {
        "id": "AAi1IbRdea9S"
      }
    },
    {
      "cell_type": "code",
      "source": [
        "%%time\n",
        "y_pred_train = clf.predict(X_train)\n",
        "print(classification_report(y_train, y_pred_train))"
      ],
      "metadata": {
        "id": "fjzUH8XOg0qA",
        "colab": {
          "base_uri": "https://localhost:8080/"
        },
        "outputId": "a965ba29-b457-4c0c-e09a-63778d32e962"
      },
      "execution_count": 26,
      "outputs": [
        {
          "output_type": "stream",
          "name": "stdout",
          "text": [
            "              precision    recall  f1-score   support\n",
            "\n",
            "       False       0.93      0.94      0.93       399\n",
            "        True       0.94      0.93      0.93       401\n",
            "\n",
            "    accuracy                           0.93       800\n",
            "   macro avg       0.93      0.93      0.93       800\n",
            "weighted avg       0.93      0.93      0.93       800\n",
            "\n",
            "CPU times: user 55 ms, sys: 1.96 ms, total: 57 ms\n",
            "Wall time: 60.2 ms\n"
          ]
        }
      ]
    },
    {
      "cell_type": "code",
      "source": [
        "%%time\n",
        "y_pred_test = clf.predict(X_test)\n",
        "print(classification_report(y_test, y_pred_test))"
      ],
      "metadata": {
        "id": "LruALBORg3p1",
        "colab": {
          "base_uri": "https://localhost:8080/"
        },
        "outputId": "8e7a1881-bcf5-4619-a735-571b90505c7b"
      },
      "execution_count": 27,
      "outputs": [
        {
          "output_type": "stream",
          "name": "stdout",
          "text": [
            "              precision    recall  f1-score   support\n",
            "\n",
            "       False       0.88      0.92      0.90        92\n",
            "        True       0.93      0.89      0.91       108\n",
            "\n",
            "    accuracy                           0.91       200\n",
            "   macro avg       0.90      0.91      0.90       200\n",
            "weighted avg       0.91      0.91      0.91       200\n",
            "\n",
            "CPU times: user 62.2 ms, sys: 2.63 ms, total: 64.9 ms\n",
            "Wall time: 71.8 ms\n"
          ]
        }
      ]
    },
    {
      "cell_type": "markdown",
      "source": [
        "Because the case is to predict churn, we can focus on seeking False Negatives, so we can see the recall of true. From the evaluation above, we know that the recall of true is 93% in the training set and 89% in the test set. We're going to use hyperparameter tuning to make it a better fit."
      ],
      "metadata": {
        "id": "-sv1FbvX9HzH"
      }
    },
    {
      "cell_type": "markdown",
      "source": [
        "# 6. Hyperparameter Tuning"
      ],
      "metadata": {
        "id": "IVrbmB9qg9Su"
      }
    },
    {
      "cell_type": "code",
      "source": [
        "param_grid = {\n",
        "    'classifier__C': [0.1, 1, 10, 100],\n",
        "    'classifier__kernel': ['rbf', 'linear','sigmoid'],\n",
        "    'classifier__degree': [2, 3, 4, 5],\n",
        "    'classifier__coef0': [0.0, 0.5, 1.0]\n",
        "}\n",
        "\n",
        "grid_search = GridSearchCV(estimator=clf, param_grid=param_grid, cv=skfold, scoring='accuracy', n_jobs=-1)\n",
        "grid_search.fit(X_train, y_train)\n",
        "\n",
        "print(\"Best parameters found: \", grid_search.best_params_)\n",
        "print(\"Best score found: \", grid_search.best_score_)\n",
        "\n",
        "best_model = grid_search.best_estimator_"
      ],
      "metadata": {
        "id": "XaFEtDHYg_Se",
        "colab": {
          "base_uri": "https://localhost:8080/"
        },
        "outputId": "2774f719-94fb-4270-dc2e-3dbe10d3fed4"
      },
      "execution_count": 28,
      "outputs": [
        {
          "output_type": "stream",
          "name": "stdout",
          "text": [
            "Best parameters found:  {'classifier__C': 0.1, 'classifier__coef0': 0.0, 'classifier__degree': 2, 'classifier__kernel': 'linear'}\n",
            "Best score found:  0.9324999999999999\n"
          ]
        }
      ]
    },
    {
      "cell_type": "markdown",
      "source": [
        "## 6.1. Model Evalutaion after hyperparameter tuning."
      ],
      "metadata": {
        "id": "SawHBG4Zw6_x"
      }
    },
    {
      "cell_type": "code",
      "source": [
        "%%time\n",
        "y_pred_train = best_model.predict(X_train)\n",
        "print(classification_report(y_train, y_pred_train))"
      ],
      "metadata": {
        "colab": {
          "base_uri": "https://localhost:8080/"
        },
        "id": "mOV4f78vvFQI",
        "outputId": "7837d322-a7fb-404d-c7a4-925f3fd8ddb5"
      },
      "execution_count": 29,
      "outputs": [
        {
          "output_type": "stream",
          "name": "stdout",
          "text": [
            "              precision    recall  f1-score   support\n",
            "\n",
            "       False       0.93      0.94      0.93       399\n",
            "        True       0.94      0.93      0.93       401\n",
            "\n",
            "    accuracy                           0.93       800\n",
            "   macro avg       0.93      0.93      0.93       800\n",
            "weighted avg       0.93      0.93      0.93       800\n",
            "\n",
            "CPU times: user 39.3 ms, sys: 0 ns, total: 39.3 ms\n",
            "Wall time: 41.3 ms\n"
          ]
        }
      ]
    },
    {
      "cell_type": "code",
      "source": [
        "%%time\n",
        "y_pred_test = best_model.predict(X_test)\n",
        "print(classification_report(y_test, y_pred_test))"
      ],
      "metadata": {
        "colab": {
          "base_uri": "https://localhost:8080/"
        },
        "id": "2No03nXBvQAu",
        "outputId": "88a13a70-09a8-4bc9-e1fa-05eb80433ffd"
      },
      "execution_count": 30,
      "outputs": [
        {
          "output_type": "stream",
          "name": "stdout",
          "text": [
            "              precision    recall  f1-score   support\n",
            "\n",
            "       False       0.88      0.92      0.90        92\n",
            "        True       0.93      0.89      0.91       108\n",
            "\n",
            "    accuracy                           0.91       200\n",
            "   macro avg       0.90      0.91      0.90       200\n",
            "weighted avg       0.91      0.91      0.91       200\n",
            "\n",
            "CPU times: user 28.7 ms, sys: 0 ns, total: 28.7 ms\n",
            "Wall time: 28.7 ms\n"
          ]
        }
      ]
    },
    {
      "cell_type": "markdown",
      "source": [
        "Hyperparameter tuning did not lead to an improvement in recall for the training or test data. However, it did result in a faster running time. Predicting on the test data now takes 28.7 milliseconds with hyperparameter tuning, compared to 64.9 milliseconds without it. This represents a 36.2-millisecond improvement."
      ],
      "metadata": {
        "id": "nofjf0Nsv6wA"
      }
    },
    {
      "cell_type": "markdown",
      "source": [
        "## 6.2 Identify which classes the model is most likely to misclassify"
      ],
      "metadata": {
        "id": "4oyz7qqWhj9T"
      }
    },
    {
      "cell_type": "code",
      "source": [
        "# Generate the confusion matrix\n",
        "cm = confusion_matrix(y_test, y_pred_test)\n",
        "\n",
        "# Find the indices where the actual value is True and the predicted value is False (False Negatives)\n",
        "false_negative_indices = np.where((y_test == True) & (y_pred_test == False))\n",
        "\n",
        "# Get the corresponding rows from X_test\n",
        "false_negative_instances = X_test.iloc[false_negative_indices]\n",
        "\n",
        "# Display the characteristics of the misclassified instances\n",
        "print(\"Characteristics of False Negatives (Actual: True, Predicted: False):\")\n",
        "print(false_negative_instances.describe())\n",
        "print(false_negative_instances.head(15))\n"
      ],
      "metadata": {
        "colab": {
          "base_uri": "https://localhost:8080/"
        },
        "id": "FrAHq-efwp_6",
        "outputId": "95512022-059e-4d78-9d86-281a83e4dd0c"
      },
      "execution_count": 31,
      "outputs": [
        {
          "output_type": "stream",
          "name": "stdout",
          "text": [
            "Characteristics of False Negatives (Actual: True, Predicted: False):\n",
            "          tenure  monthly_charges  total_charges\n",
            "count  12.000000     1.200000e+01   1.200000e+01\n",
            "mean   14.583333     2.828750e+06   4.126792e+07\n",
            "std     4.358030     1.352796e+05   1.048501e+07\n",
            "min    10.000000     2.605000e+06   3.050000e+07\n",
            "25%    11.000000     2.776250e+06   3.130500e+07\n",
            "50%    13.500000     2.852500e+06   3.950000e+07\n",
            "75%    17.750000     2.905000e+06   4.945000e+07\n",
            "max    22.000000     3.005000e+06   5.830000e+07\n",
            "    customer_id  tenure  monthly_charges  total_charges  contract  \\\n",
            "312     CUST313      13        2900000.0     37700000.0  one year   \n",
            "820     CUST821      14        2905000.0     41300000.0  two year   \n",
            "296     CUST297      12        2900000.0     34800000.0  one year   \n",
            "866     CUST867      20        2705000.0     55000000.0  one year   \n",
            "292     CUST293      11        2805000.0     31305000.0  one year   \n",
            "826     CUST827      21        2605000.0     55605000.0  one year   \n",
            "816     CUST817      11        2805000.0     31305000.0  one year   \n",
            "294     CUST295      14        2905000.0     41300000.0  two year   \n",
            "822     CUST823      17        2800000.0     47600000.0  one year   \n",
            "298     CUST299      10        3005000.0     30500000.0  two year   \n",
            "314     CUST315      10        3005000.0     30500000.0  two year   \n",
            "310     CUST311      22        2605000.0     58300000.0  two year   \n",
            "\n",
            "                                       feedback sentiment                topic  \n",
            "312          Always satisfied with the bouquets  positive  bouquet preferences  \n",
            "820  Flowers always arrive in perfect condition  positive      product quality  \n",
            "296         Always look forward to the bouquets  positive     general feedback  \n",
            "866          Highly recommend for flower lovers  positive     general feedback  \n",
            "292                 Very happy with the service  positive     general feedback  \n",
            "826        Always happy with the flower quality  positive      product quality  \n",
            "816            Very satisfied with the bouquets  positive  bouquet preferences  \n",
            "294            High-quality flowers every month  positive      product quality  \n",
            "822               Always a wonderful experience  positive     general feedback  \n",
            "298               Happy with the flower quality  positive      product quality  \n",
            "314            Great customer care and bouquets  positive     customer service  \n",
            "310                   Love the flower selection  positive  bouquet preferences  \n"
          ]
        }
      ]
    },
    {
      "cell_type": "code",
      "source": [
        "# Find the indices where the actual value is False and the predicted value is True (False Positives)\n",
        "false_positive_indices = np.where((y_test == False) & (y_pred_test == True))\n",
        "\n",
        "# Get the corresponding rows from X_test\n",
        "false_positive_instances = X_test.iloc[false_positive_indices]\n",
        "\n",
        "# Display the characteristics of the misclassified instances\n",
        "print(\"Characteristics of False Positives (Actual: False, Predicted: True):\")\n",
        "print(false_positive_instances.describe())\n",
        "print(false_positive_instances.head(10))\n"
      ],
      "metadata": {
        "id": "k4Ut4uzZP5WS",
        "colab": {
          "base_uri": "https://localhost:8080/"
        },
        "outputId": "d782d70d-d6a1-4f33-9caa-9bd597630dbc"
      },
      "execution_count": 32,
      "outputs": [
        {
          "output_type": "stream",
          "name": "stdout",
          "text": [
            "Characteristics of False Positives (Actual: False, Predicted: True):\n",
            "         tenure  monthly_charges  total_charges\n",
            "count  7.000000     7.000000e+00   7.000000e+00\n",
            "mean   4.285714     3.073571e+06   1.361500e+07\n",
            "std    2.690371     1.799008e+05   9.399312e+06\n",
            "min    2.000000     2.905000e+06   5.900000e+06\n",
            "25%    2.500000     2.952500e+06   7.450000e+06\n",
            "50%    3.000000     3.000000e+06   9.000000e+06\n",
            "75%    5.500000     3.150000e+06   1.725000e+07\n",
            "max    9.000000     3.405000e+06   3.100500e+07\n",
            "    customer_id  tenure  monthly_charges  total_charges        contract  \\\n",
            "899     CUST900       2        2905000.0      5900000.0  month-to-month   \n",
            "883     CUST884       2        2905000.0      5900000.0  month-to-month   \n",
            "901     CUST902       3        3000000.0      9000000.0  month-to-month   \n",
            "879     CUST880       4        3200000.0     12800000.0  month-to-month   \n",
            "39      CUST040       9        3405000.0     31005000.0  month-to-month   \n",
            "55      CUST056       3        3000000.0      9000000.0  month-to-month   \n",
            "893     CUST894       7        3100000.0     21700000.0  month-to-month   \n",
            "\n",
            "                                feedback sentiment             topic  \n",
            "899      Too costly for the bouquet size  negative  price complaints  \n",
            "883      Too costly for the bouquet size  negative  price complaints  \n",
            "901      Not satisfied with the delivery  negative   delivery issues  \n",
            "879  Not satisfied with the bouquet size  negative  price complaints  \n",
            "39               Expected better quality  negative   product quality  \n",
            "55   Too costly for the quality provided  negative  price complaints  \n",
            "893     Expected better quality bouquets  negative   product quality  \n"
          ]
        }
      ]
    },
    {
      "cell_type": "markdown",
      "source": [
        "The model is capable of detecting anomalous data points within the test dataset. These anomalies exhibit patterns that deviate significantly from the general trends observed in the data and are inconsistent with the patterns learned by the model. The model has been trained to associate high tenure, high total charges, and positive sentiment with a low likelihood of churn. Conversely, low tenure, low total charges, and negative sentiment are typically predicted to indicate churn.\n",
        "\n",
        "However, we have identified instances where the model's predictions contradict our domain knowledge. For example, some customers with high tenure, high total charges, and positive sentiment were incorrectly classified as churners (false negatives). Additionally, there were cases where customers with low tenure, low total charges, and negative sentiment were predicted to remain loyal (false positives). These discrepancies highlight the limitations of the model in capturing the full complexity of customer churn behavior."
      ],
      "metadata": {
        "id": "i5hc1VWwanmf"
      }
    },
    {
      "cell_type": "markdown",
      "source": [
        "# 7. Model Saving"
      ],
      "metadata": {
        "id": "CpSwG3CrmYl0"
      }
    },
    {
      "cell_type": "code",
      "source": [
        "# Save the model to a file\n",
        "with open('model.pkl', 'wb') as file:\n",
        "    pickle.dump(best_model, file)"
      ],
      "metadata": {
        "id": "Aut8KJW1mfPV"
      },
      "execution_count": 33,
      "outputs": []
    },
    {
      "cell_type": "markdown",
      "source": [
        "# 8. Summary"
      ],
      "metadata": {
        "id": "jZ94FvgMblOM"
      }
    },
    {
      "cell_type": "markdown",
      "source": [
        "## 8.1. Model Evaluation and Improvement\n",
        "\n",
        "### Model Overview\n",
        "This binary classification model is designed to predict whether a customer will churn or not. Given the significance of customer retention, recall is our primary evaluation metric. The model achieved a recall score of 93% on the training data and 89% on the testing data, indicating its ability to accurately identify most customers who actually churn.\n",
        "\n",
        "### Feature Importance\n",
        "Feature importance analysis reveals that a combination of `tenure`, `total_charges`, and customer `sentiment` significantly influences churn predictions. Customers with high tenure, total charges, and positive sentiment are more likely to be retained, while those with opposite characteristics are at a higher risk of churn.\n",
        "\n",
        "### Model Strengths\n",
        "1. **Strong recall performance:** The model achieved a robust recall score of 89% on the testing data.\n",
        "2. **Optimized for speed:** Through hyperparameter tuning, the model's performance has been optimized for faster inference compared to the default SVC.\n",
        "3. **Easy to deploy:** The model is encapsulated within a pipeline, simplifying its deployment and application.\n",
        "\n",
        "### Model Weaknesses\n",
        "1. **Overfitting:** The model may be overfitting the training data.\n",
        "2. **Outliers:** The presence of outliers that deviate from the general patterns can impact model performance.\n",
        "\n",
        "### Future Improvements\n",
        "1. **Outlier detection and handling:** Implement techniques to identify and address outliers that may be distorting the model's learning.\n",
        "2. **Advanced hyperparameter tuning:** Explore more sophisticated hyperparameter tuning methods to further optimize the model.\n",
        "3. **Data augmentation:** Consider augmenting the dataset to improve model generalization and reduce overfitting.\n",
        "\n",
        "### Additional Considerations\n",
        "* **Imbalanced classes:** If the dataset exhibits class imbalance (i.e., more non-churn instances than churn instances), techniques like oversampling, undersampling, or class weighting can be employed.\n",
        "* **Feature engineering:** Creating new features or transforming existing ones may enhance the model's predictive power.\n",
        "* **Interpretability:** Investigate methods to improve the model's interpretability, making it easier to understand the underlying decision-making process.\n",
        "\n",
        "By addressing these areas, we can further enhance the model's performance and reliability in predicting customer churn."
      ],
      "metadata": {
        "id": "hunEh-Ombn3O"
      }
    },
    {
      "cell_type": "markdown",
      "source": [
        "## 8.2. Customer Feedback Analysis From Chrun Customer\n",
        "\n",
        "![Screenshot 2024-09-26 112209.png](data:image/png;base64,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)\n",
        "\n",
        "* **Product Quality:** The most frequently discussed topic, indicating a need for focus on product excellence.\n",
        "* **Pricing:** Price complaints are a recurring concern, suggesting pricing optimization is necessary.\n",
        "* **Delivery and Customer Service:** These areas also require attention based on customer feedback.\n",
        "\n",
        "**Marketing Recommendations**\n",
        "\n",
        "* **Product Focus:** Emphasize product quality and unique features in marketing.\n",
        "* **Pricing Strategy:** Implement transparent pricing and consider value-added offers.\n",
        "* **Customer Testimonials:** Showcase positive customer experiences to build trust.\n",
        "\n",
        "**Customer Service Recommendations**\n",
        "\n",
        "* **Delivery Improvement:** Prioritize improving delivery efficiency and reliability.\n",
        "* **Proactive Engagement:** Address customer concerns proactively through effective communication.\n",
        "* **Representative Training:** Ensure customer service representatives are well-trained in product knowledge and handling complaints.\n",
        "\n",
        "**Other Division Recommendations**\n",
        "\n",
        "* **Product Development:** Continuously monitor customer feedback for product improvement.\n",
        "* **Operations:** Collaborate with customer service and marketing for efficient delivery processes.\n",
        "* **Finance:** Analyze pricing data to inform pricing decisions and identify cost optimization opportunities."
      ],
      "metadata": {
        "id": "NRCO1GHMkwCo"
      }
    },
    {
      "cell_type": "markdown",
      "source": [
        "## 8.3 Strategies to Reduce Customer Churn\n",
        "\n",
        "### Focus on Personalization and Quality\n",
        "\n",
        "* **Communication:**\n",
        "  * **Prompt Follow-up:** Implement a ticketing system to track and respond to all customer complaints within 24 hours.\n",
        "  * **Personalization:** Utilize customer data to send relevant product recommendations and special offers via email or app notifications.\n",
        "* **Products and Services:**\n",
        "  * **Continuous Improvement:** Conduct regular customer satisfaction surveys and use the results to enhance product/service quality.\n",
        "  * **Shipping:** Collaborate with logistics partners to ensure timely delivery and real-time shipment tracking.\n",
        "* **Technology:**\n",
        "  * **Chatbot:** Implement an intelligent chatbot to answer common customer questions 24/7.\n",
        "  * **Predictive Analytics:** Use analytics tools to identify customer behavior patterns that indicate potential churn and take proactive interventions.\n",
        "\n",
        "### Enhancing Loyalty\n",
        "\n",
        "* **Loyalty Programs:**\n",
        "  * **Points and Rewards:** Award points to customers for every purchase and allow them to redeem for attractive rewards.\n",
        "  * **Referral Programs:** Provide incentives to customers who refer friends or family.\n",
        "* **Special Offers:**\n",
        "  * **Discounts:** Offer exclusive discounts to customers who haven't made a purchase in a while.\n",
        "  * **Bundling:** Create attractive bundles with more competitive pricing."
      ],
      "metadata": {
        "id": "uyS0mMJDmHdP"
      }
    }
  ]
}